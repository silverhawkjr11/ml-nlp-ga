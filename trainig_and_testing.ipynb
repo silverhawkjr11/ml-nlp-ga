{
 "cells": [
  {
   "cell_type": "markdown",
   "metadata": {
    "id": "wLti3XKUaazX"
   },
   "source": [
    "### download the dataset"
   ]
  },
  {
   "cell_type": "code",
   "execution_count": 1,
   "metadata": {
    "colab": {
     "base_uri": "https://localhost:8080/"
    },
    "id": "ZtIlRoj3cECs",
    "outputId": "320caa24-409f-4917-9d2a-36cd725ba039",
    "ExecuteTime": {
     "end_time": "2024-06-08T11:02:47.549770Z",
     "start_time": "2024-06-08T11:02:38.284065Z"
    }
   },
   "outputs": [
    {
     "name": "stdout",
     "output_type": "stream",
     "text": [
      "Requirement already satisfied: requests in c:\\users\\riad\\onedrive\\desktop\\py_env\\pythonproject2\\.venv\\lib\\site-packages (2.32.3)\n",
      "Requirement already satisfied: charset-normalizer<4,>=2 in c:\\users\\riad\\onedrive\\desktop\\py_env\\pythonproject2\\.venv\\lib\\site-packages (from requests) (3.3.2)\n",
      "Requirement already satisfied: idna<4,>=2.5 in c:\\users\\riad\\onedrive\\desktop\\py_env\\pythonproject2\\.venv\\lib\\site-packages (from requests) (3.7)\n",
      "Requirement already satisfied: urllib3<3,>=1.21.1 in c:\\users\\riad\\onedrive\\desktop\\py_env\\pythonproject2\\.venv\\lib\\site-packages (from requests) (2.2.1)\n",
      "Requirement already satisfied: certifi>=2017.4.17 in c:\\users\\riad\\onedrive\\desktop\\py_env\\pythonproject2\\.venv\\lib\\site-packages (from requests) (2024.6.2)\n"
     ]
    },
    {
     "name": "stderr",
     "output_type": "stream",
     "text": [
      "\n",
      "[notice] A new release of pip is available: 23.2.1 -> 24.0\n",
      "[notice] To update, run: python.exe -m pip install --upgrade pip\n"
     ]
    },
    {
     "name": "stdout",
     "output_type": "stream",
     "text": [
      "Requirement already satisfied: certifi in c:\\users\\riad\\onedrive\\desktop\\py_env\\pythonproject2\\.venv\\lib\\site-packages (2024.6.2)\n"
     ]
    },
    {
     "name": "stderr",
     "output_type": "stream",
     "text": [
      "\n",
      "[notice] A new release of pip is available: 23.2.1 -> 24.0\n",
      "[notice] To update, run: python.exe -m pip install --upgrade pip\n"
     ]
    }
   ],
   "source": [
    "!pip install requests\n",
    "!pip install certifi\n"
   ]
  },
  {
   "cell_type": "code",
   "execution_count": 2,
   "metadata": {
    "collapsed": false,
    "ExecuteTime": {
     "end_time": "2024-06-08T11:02:59.706438Z",
     "start_time": "2024-06-08T11:02:55.352015Z"
    }
   },
   "outputs": [
    {
     "name": "stdout",
     "output_type": "stream",
     "text": [
      "Requirement already satisfied: pip in c:\\users\\riad\\onedrive\\desktop\\py_env\\pythonproject2\\.venv\\lib\\site-packages (23.2.1)\n",
      "Collecting pip\n",
      "  Obtaining dependency information for pip from https://files.pythonhosted.org/packages/8a/6a/19e9fe04fca059ccf770861c7d5721ab4c2aebc539889e97c7977528a53b/pip-24.0-py3-none-any.whl.metadata\n",
      "  Using cached pip-24.0-py3-none-any.whl.metadata (3.6 kB)\n",
      "Using cached pip-24.0-py3-none-any.whl (2.1 MB)\n"
     ]
    },
    {
     "name": "stderr",
     "output_type": "stream",
     "text": [
      "ERROR: To modify pip, please run the following command:\n",
      "C:\\Users\\riad\\OneDrive\\Desktop\\py_env\\pythonProject2\\.venv\\Scripts\\python.exe -m pip install --upgrade pip\n",
      "\n",
      "[notice] A new release of pip is available: 23.2.1 -> 24.0\n",
      "[notice] To update, run: python.exe -m pip install --upgrade pip\n"
     ]
    }
   ],
   "source": [
    "!pip install --upgrade pip"
   ]
  },
  {
   "cell_type": "markdown",
   "source": [
    "# download dataset"
   ],
   "metadata": {
    "collapsed": false
   }
  },
  {
   "cell_type": "code",
   "execution_count": 3,
   "metadata": {
    "id": "P0eSjrmIaZWQ",
    "ExecuteTime": {
     "end_time": "2024-06-08T11:03:05.864598Z",
     "start_time": "2024-06-08T11:03:03.024667Z"
    }
   },
   "outputs": [],
   "source": [
    "import requests\n",
    "\n",
    "\n",
    "def download_ds(url, local_filename):\n",
    "    try:\n",
    "        response = requests.get(url, stream=True, verify=False)\n",
    "        if response.status_code == 200:\n",
    "            with open(local_filename, 'wb') as file:\n",
    "                for chunk in response.iter_content(chunk_size=1024):\n",
    "                    if chunk:\n",
    "                        file.write(chunk)\n",
    "            print(f\"Downloaded file as {local_filename}\")\n",
    "        else:\n",
    "            print(f\"Failed to download file. Status code: {response.status_code}\")\n",
    "    except Exception as e:\n",
    "        print(f\"An error occurred: {e}\")"
   ]
  },
  {
   "cell_type": "code",
   "execution_count": 4,
   "metadata": {
    "colab": {
     "base_uri": "https://localhost:8080/"
    },
    "id": "Ioedxwrdaf2f",
    "outputId": "cd42bc7a-2fe9-4c9f-da16-dc99ba878bb7",
    "ExecuteTime": {
     "end_time": "2024-06-08T11:04:53.113128Z",
     "start_time": "2024-06-08T11:03:30.956813Z"
    }
   },
   "outputs": [
    {
     "name": "stderr",
     "output_type": "stream",
     "text": [
      "C:\\Users\\riad\\OneDrive\\Desktop\\py_env\\pythonProject2\\.venv\\Lib\\site-packages\\urllib3\\connectionpool.py:1103: InsecureRequestWarning: Unverified HTTPS request is being made to host 'datarepo.eng.ucsd.edu'. Adding certificate verification is strongly advised. See: https://urllib3.readthedocs.io/en/latest/advanced-usage.html#tls-warnings\n",
      "  warnings.warn(\n"
     ]
    },
    {
     "name": "stdout",
     "output_type": "stream",
     "text": [
      "Downloaded file as All_Beauty.jsonl.gz\n"
     ]
    }
   ],
   "source": [
    "download_ds(\"https://datarepo.eng.ucsd.edu/mcauley_group/data/amazon_2023/raw/review_categories/All_Beauty.jsonl.gz\",\n",
    "            \"All_Beauty.jsonl.gz\")"
   ]
  },
  {
   "cell_type": "code",
   "execution_count": 5,
   "metadata": {
    "id": "M9FZLqcfcY_m",
    "ExecuteTime": {
     "end_time": "2024-06-08T11:05:30.687214Z",
     "start_time": "2024-06-08T11:05:30.623665Z"
    }
   },
   "outputs": [
    {
     "name": "stderr",
     "output_type": "stream",
     "text": [
      "'gunzip' is not recognized as an internal or external command,\n",
      "operable program or batch file.\n"
     ]
    }
   ],
   "source": [
    "# prompt: unzip All_Beauty.jsonl.gz\n",
    "\n",
    "!gunzip All_Beauty.jsonl.gz\n"
   ]
  },
  {
   "cell_type": "code",
   "execution_count": 6,
   "metadata": {
    "collapsed": false,
    "ExecuteTime": {
     "end_time": "2024-06-08T11:08:36.516706Z",
     "start_time": "2024-06-08T11:07:36.634652Z"
    }
   },
   "outputs": [
    {
     "name": "stdout",
     "output_type": "stream",
     "text": [
      "Collecting pandas\n",
      "  Obtaining dependency information for pandas from https://files.pythonhosted.org/packages/22/a5/a0b255295406ed54269814bc93723cfd1a0da63fb9aaf99e1364f07923e5/pandas-2.2.2-cp312-cp312-win_amd64.whl.metadata\n",
      "  Downloading pandas-2.2.2-cp312-cp312-win_amd64.whl.metadata (19 kB)\n",
      "Requirement already satisfied: numpy>=1.26.0 in c:\\users\\riad\\onedrive\\desktop\\py_env\\pythonproject2\\.venv\\lib\\site-packages (from pandas) (1.26.4)\n",
      "Requirement already satisfied: python-dateutil>=2.8.2 in c:\\users\\riad\\onedrive\\desktop\\py_env\\pythonproject2\\.venv\\lib\\site-packages (from pandas) (2.9.0.post0)\n",
      "Collecting pytz>=2020.1 (from pandas)\n",
      "  Obtaining dependency information for pytz>=2020.1 from https://files.pythonhosted.org/packages/9c/3d/a121f284241f08268b21359bd425f7d4825cffc5ac5cd0e1b3d82ffd2b10/pytz-2024.1-py2.py3-none-any.whl.metadata\n",
      "  Downloading pytz-2024.1-py2.py3-none-any.whl.metadata (22 kB)\n",
      "Collecting tzdata>=2022.7 (from pandas)\n",
      "  Obtaining dependency information for tzdata>=2022.7 from https://files.pythonhosted.org/packages/65/58/f9c9e6be752e9fcb8b6a0ee9fb87e6e7a1f6bcab2cdc73f02bb7ba91ada0/tzdata-2024.1-py2.py3-none-any.whl.metadata\n",
      "  Downloading tzdata-2024.1-py2.py3-none-any.whl.metadata (1.4 kB)\n",
      "Requirement already satisfied: six>=1.5 in c:\\users\\riad\\onedrive\\desktop\\py_env\\pythonproject2\\.venv\\lib\\site-packages (from python-dateutil>=2.8.2->pandas) (1.16.0)\n",
      "Downloading pandas-2.2.2-cp312-cp312-win_amd64.whl (11.5 MB)\n",
      "   ---------------------------------------- 0.0/11.5 MB ? eta -:--:--\n",
      "   ---------------------------------------- 0.0/11.5 MB 640.0 kB/s eta 0:00:18\n",
      "   ---------------------------------------- 0.1/11.5 MB 777.7 kB/s eta 0:00:15\n",
      "    --------------------------------------- 0.2/11.5 MB 1.3 MB/s eta 0:00:09\n",
      "    --------------------------------------- 0.2/11.5 MB 1.3 MB/s eta 0:00:09\n",
      "   - -------------------------------------- 0.3/11.5 MB 1.4 MB/s eta 0:00:09\n",
      "   - -------------------------------------- 0.3/11.5 MB 1.4 MB/s eta 0:00:09\n",
      "   - -------------------------------------- 0.3/11.5 MB 1.1 MB/s eta 0:00:11\n",
      "   - -------------------------------------- 0.3/11.5 MB 1.1 MB/s eta 0:00:11\n",
      "   - -------------------------------------- 0.4/11.5 MB 849.3 kB/s eta 0:00:14\n",
      "   - -------------------------------------- 0.5/11.5 MB 1.1 MB/s eta 0:00:11\n",
      "   -- ------------------------------------- 0.6/11.5 MB 1.2 MB/s eta 0:00:09\n",
      "   -- ------------------------------------- 0.7/11.5 MB 1.3 MB/s eta 0:00:09\n",
      "   --- ------------------------------------ 0.9/11.5 MB 1.4 MB/s eta 0:00:08\n",
      "   --- ------------------------------------ 1.1/11.5 MB 1.6 MB/s eta 0:00:07\n",
      "   ---- ----------------------------------- 1.3/11.5 MB 1.8 MB/s eta 0:00:06\n",
      "   ---- ----------------------------------- 1.3/11.5 MB 1.8 MB/s eta 0:00:06\n",
      "   ---- ----------------------------------- 1.4/11.5 MB 1.7 MB/s eta 0:00:06\n",
      "   ----- ---------------------------------- 1.5/11.5 MB 1.8 MB/s eta 0:00:06\n",
      "   ----- ---------------------------------- 1.6/11.5 MB 1.8 MB/s eta 0:00:06\n",
      "   ------ --------------------------------- 1.8/11.5 MB 1.9 MB/s eta 0:00:06\n",
      "   ------ --------------------------------- 1.9/11.5 MB 1.9 MB/s eta 0:00:06\n",
      "   ------- -------------------------------- 2.1/11.5 MB 2.0 MB/s eta 0:00:05\n",
      "   ------- -------------------------------- 2.2/11.5 MB 2.0 MB/s eta 0:00:05\n",
      "   -------- ------------------------------- 2.3/11.5 MB 2.1 MB/s eta 0:00:05\n",
      "   -------- ------------------------------- 2.5/11.5 MB 2.1 MB/s eta 0:00:05\n",
      "   --------- ------------------------------ 2.6/11.5 MB 2.1 MB/s eta 0:00:05\n",
      "   --------- ------------------------------ 2.8/11.5 MB 2.2 MB/s eta 0:00:05\n",
      "   ---------- ----------------------------- 2.9/11.5 MB 2.2 MB/s eta 0:00:04\n",
      "   ---------- ----------------------------- 2.9/11.5 MB 2.2 MB/s eta 0:00:04\n",
      "   ---------- ----------------------------- 3.0/11.5 MB 2.1 MB/s eta 0:00:05\n",
      "   ---------- ----------------------------- 3.1/11.5 MB 2.1 MB/s eta 0:00:05\n",
      "   ---------- ----------------------------- 3.1/11.5 MB 2.1 MB/s eta 0:00:05\n",
      "   ----------- ---------------------------- 3.2/11.5 MB 2.1 MB/s eta 0:00:05\n",
      "   ----------- ---------------------------- 3.3/11.5 MB 2.1 MB/s eta 0:00:04\n",
      "   ------------ --------------------------- 3.5/11.5 MB 2.1 MB/s eta 0:00:04\n",
      "   ------------ --------------------------- 3.6/11.5 MB 2.2 MB/s eta 0:00:04\n",
      "   ------------- -------------------------- 3.7/11.5 MB 2.2 MB/s eta 0:00:04\n",
      "   ------------- -------------------------- 3.8/11.5 MB 2.2 MB/s eta 0:00:04\n",
      "   ------------- -------------------------- 3.9/11.5 MB 2.2 MB/s eta 0:00:04\n",
      "   ------------- -------------------------- 4.0/11.5 MB 2.1 MB/s eta 0:00:04\n",
      "   -------------- ------------------------- 4.1/11.5 MB 2.1 MB/s eta 0:00:04\n",
      "   --------------- ------------------------ 4.3/11.5 MB 2.2 MB/s eta 0:00:04\n",
      "   --------------- ------------------------ 4.4/11.5 MB 2.2 MB/s eta 0:00:04\n",
      "   --------------- ------------------------ 4.6/11.5 MB 2.2 MB/s eta 0:00:04\n",
      "   ---------------- ----------------------- 4.6/11.5 MB 2.2 MB/s eta 0:00:04\n",
      "   ---------------- ----------------------- 4.7/11.5 MB 2.2 MB/s eta 0:00:04\n",
      "   ---------------- ----------------------- 4.8/11.5 MB 2.2 MB/s eta 0:00:04\n",
      "   ---------------- ----------------------- 4.8/11.5 MB 2.1 MB/s eta 0:00:04\n",
      "   ---------------- ----------------------- 4.9/11.5 MB 2.1 MB/s eta 0:00:04\n",
      "   ----------------- ---------------------- 4.9/11.5 MB 2.1 MB/s eta 0:00:04\n",
      "   ----------------- ---------------------- 5.0/11.5 MB 2.1 MB/s eta 0:00:04\n",
      "   ----------------- ---------------------- 5.2/11.5 MB 2.1 MB/s eta 0:00:03\n",
      "   ------------------ --------------------- 5.3/11.5 MB 2.1 MB/s eta 0:00:03\n",
      "   ------------------- -------------------- 5.5/11.5 MB 2.2 MB/s eta 0:00:03\n",
      "   ------------------- -------------------- 5.7/11.5 MB 2.2 MB/s eta 0:00:03\n",
      "   -------------------- ------------------- 5.8/11.5 MB 2.2 MB/s eta 0:00:03\n",
      "   -------------------- ------------------- 6.0/11.5 MB 2.3 MB/s eta 0:00:03\n",
      "   --------------------- ------------------ 6.2/11.5 MB 2.3 MB/s eta 0:00:03\n",
      "   ---------------------- ----------------- 6.3/11.5 MB 2.3 MB/s eta 0:00:03\n",
      "   ---------------------- ----------------- 6.5/11.5 MB 2.3 MB/s eta 0:00:03\n",
      "   ----------------------- ---------------- 6.6/11.5 MB 2.3 MB/s eta 0:00:03\n",
      "   ----------------------- ---------------- 6.9/11.5 MB 2.4 MB/s eta 0:00:02\n",
      "   ------------------------ --------------- 6.9/11.5 MB 2.4 MB/s eta 0:00:02\n",
      "   ------------------------ --------------- 7.1/11.5 MB 2.4 MB/s eta 0:00:02\n",
      "   ------------------------- -------------- 7.3/11.5 MB 2.4 MB/s eta 0:00:02\n",
      "   -------------------------- ------------- 7.6/11.5 MB 2.5 MB/s eta 0:00:02\n",
      "   -------------------------- ------------- 7.7/11.5 MB 2.5 MB/s eta 0:00:02\n",
      "   --------------------------- ------------ 7.8/11.5 MB 2.5 MB/s eta 0:00:02\n",
      "   --------------------------- ------------ 8.0/11.5 MB 2.5 MB/s eta 0:00:02\n",
      "   ---------------------------- ----------- 8.2/11.5 MB 2.5 MB/s eta 0:00:02\n",
      "   ----------------------------- ---------- 8.4/11.5 MB 2.5 MB/s eta 0:00:02\n",
      "   ----------------------------- ---------- 8.6/11.5 MB 2.5 MB/s eta 0:00:02\n",
      "   ------------------------------ --------- 8.7/11.5 MB 2.6 MB/s eta 0:00:02\n",
      "   ------------------------------ --------- 8.9/11.5 MB 2.6 MB/s eta 0:00:02\n",
      "   ------------------------------- -------- 9.0/11.5 MB 2.6 MB/s eta 0:00:01\n",
      "   ------------------------------- -------- 9.1/11.5 MB 2.6 MB/s eta 0:00:01\n",
      "   -------------------------------- ------- 9.4/11.5 MB 2.6 MB/s eta 0:00:01\n",
      "   -------------------------------- ------- 9.5/11.5 MB 2.6 MB/s eta 0:00:01\n",
      "   --------------------------------- ------ 9.6/11.5 MB 2.6 MB/s eta 0:00:01\n",
      "   --------------------------------- ------ 9.7/11.5 MB 2.6 MB/s eta 0:00:01\n",
      "   ---------------------------------- ----- 9.8/11.5 MB 2.6 MB/s eta 0:00:01\n",
      "   ---------------------------------- ----- 9.8/11.5 MB 2.6 MB/s eta 0:00:01\n",
      "   ---------------------------------- ----- 9.9/11.5 MB 2.6 MB/s eta 0:00:01\n",
      "   ---------------------------------- ----- 9.9/11.5 MB 2.6 MB/s eta 0:00:01\n",
      "   ---------------------------------- ----- 9.9/11.5 MB 2.5 MB/s eta 0:00:01\n",
      "   ---------------------------------- ----- 10.0/11.5 MB 2.5 MB/s eta 0:00:01\n",
      "   ----------------------------------- ---- 10.1/11.5 MB 2.5 MB/s eta 0:00:01\n",
      "   ----------------------------------- ---- 10.2/11.5 MB 2.5 MB/s eta 0:00:01\n",
      "   ----------------------------------- ---- 10.3/11.5 MB 2.5 MB/s eta 0:00:01\n",
      "   ------------------------------------ --- 10.5/11.5 MB 2.5 MB/s eta 0:00:01\n",
      "   ------------------------------------- -- 10.7/11.5 MB 2.7 MB/s eta 0:00:01\n",
      "   ------------------------------------- -- 10.8/11.5 MB 2.7 MB/s eta 0:00:01\n",
      "   -------------------------------------- - 11.0/11.5 MB 2.7 MB/s eta 0:00:01\n",
      "   -------------------------------------- - 11.0/11.5 MB 2.7 MB/s eta 0:00:01\n",
      "   -------------------------------------- - 11.1/11.5 MB 2.7 MB/s eta 0:00:01\n",
      "   -------------------------------------- - 11.2/11.5 MB 2.7 MB/s eta 0:00:01\n",
      "   ---------------------------------------  11.3/11.5 MB 2.7 MB/s eta 0:00:01\n",
      "   ---------------------------------------  11.3/11.5 MB 2.6 MB/s eta 0:00:01\n",
      "   ---------------------------------------  11.3/11.5 MB 2.6 MB/s eta 0:00:01\n",
      "   ---------------------------------------  11.3/11.5 MB 2.6 MB/s eta 0:00:01\n",
      "   ---------------------------------------  11.3/11.5 MB 2.6 MB/s eta 0:00:01\n",
      "   ---------------------------------------  11.3/11.5 MB 2.6 MB/s eta 0:00:01\n",
      "   ---------------------------------------  11.3/11.5 MB 2.6 MB/s eta 0:00:01\n",
      "   ---------------------------------------  11.3/11.5 MB 2.6 MB/s eta 0:00:01\n",
      "   ---------------------------------------  11.3/11.5 MB 2.6 MB/s eta 0:00:01\n",
      "   ---------------------------------------  11.3/11.5 MB 2.6 MB/s eta 0:00:01\n",
      "   ---------------------------------------  11.3/11.5 MB 2.6 MB/s eta 0:00:01\n",
      "   ---------------------------------------  11.3/11.5 MB 2.6 MB/s eta 0:00:01\n",
      "   ---------------------------------------  11.3/11.5 MB 2.6 MB/s eta 0:00:01\n",
      "   ---------------------------------------  11.3/11.5 MB 2.6 MB/s eta 0:00:01\n",
      "   ---------------------------------------  11.3/11.5 MB 2.6 MB/s eta 0:00:01\n",
      "   ---------------------------------------  11.4/11.5 MB 2.2 MB/s eta 0:00:01\n",
      "   ---------------------------------------  11.5/11.5 MB 2.3 MB/s eta 0:00:01\n",
      "   ---------------------------------------- 11.5/11.5 MB 2.3 MB/s eta 0:00:00\n",
      "Downloading pytz-2024.1-py2.py3-none-any.whl (505 kB)\n",
      "   ---------------------------------------- 0.0/505.5 kB ? eta -:--:--\n",
      "    --------------------------------------- 10.2/505.5 kB ? eta -:--:--\n",
      "   ---- ---------------------------------- 61.4/505.5 kB 812.7 kB/s eta 0:00:01\n",
      "   ------------ --------------------------- 153.6/505.5 kB 1.3 MB/s eta 0:00:01\n",
      "   --------------------- ------------------ 266.2/505.5 kB 1.6 MB/s eta 0:00:01\n",
      "   ------------------------------- -------- 399.4/505.5 kB 1.9 MB/s eta 0:00:01\n",
      "   ---------------------------------------- 505.5/505.5 kB 2.0 MB/s eta 0:00:00\n",
      "Downloading tzdata-2024.1-py2.py3-none-any.whl (345 kB)\n",
      "   ---------------------------------------- 0.0/345.4 kB ? eta -:--:--\n",
      "   ------- -------------------------------- 61.4/345.4 kB 1.6 MB/s eta 0:00:01\n",
      "   ---------------- ----------------------- 143.4/345.4 kB 1.7 MB/s eta 0:00:01\n",
      "   -------------------------- ------------- 225.3/345.4 kB 1.7 MB/s eta 0:00:01\n",
      "   ---------------------------------------- 345.4/345.4 kB 1.9 MB/s eta 0:00:00\n",
      "Installing collected packages: pytz, tzdata, pandas\n",
      "Successfully installed pandas-2.2.2 pytz-2024.1 tzdata-2024.1\n"
     ]
    },
    {
     "name": "stderr",
     "output_type": "stream",
     "text": [
      "\n",
      "[notice] A new release of pip is available: 23.2.1 -> 24.0\n",
      "[notice] To update, run: python.exe -m pip install --upgrade pip\n"
     ]
    }
   ],
   "source": [
    "!pip install pandas"
   ]
  },
  {
   "cell_type": "code",
   "execution_count": null,
   "metadata": {
    "ExecuteTime": {
     "end_time": "2024-05-02T17:48:38.145580Z",
     "start_time": "2024-05-02T17:48:38.089949Z"
    },
    "collapsed": false
   },
   "outputs": [],
   "source": [
    "import json\n",
    "\n",
    "\n",
    "def filter_jsonl_file(input_file, output_file, max_lines=5000):\n",
    "    with open(input_file, 'r') as f_in, open(output_file, 'w') as f_out:\n",
    "        for i, line in enumerate(f_in):\n",
    "            if i >= max_lines:\n",
    "                break\n",
    "            try:\n",
    "                data = json.loads(line)\n",
    "                if all(key in data for key in ('text', 'rating', 'title')):\n",
    "                    print(line)\n",
    "                    f_out.write(line)\n",
    "            except json.JSONDecodeError:\n",
    "                continue\n",
    "\n",
    "\n",
    "# Usage\n",
    "filter_jsonl_file('All_Beauty.jsonl', 'Filtered_All_Beauty.jsonl')"
   ]
  },
  {
   "cell_type": "code",
   "execution_count": 7,
   "metadata": {
    "id": "SkTu62-PeJVR",
    "ExecuteTime": {
     "end_time": "2024-06-08T11:08:47.709306Z",
     "start_time": "2024-06-08T11:08:42.548518Z"
    }
   },
   "outputs": [],
   "source": [
    "import pandas as pd\n",
    "import json\n",
    "\n",
    "\n",
    "def json_to_dataframe(json_data):\n",
    "    data_list = []\n",
    "    for line in json_data.split(\"\\n\"):\n",
    "        if line.strip() != \"\":\n",
    "            try:\n",
    "                data = json.loads(line)\n",
    "                data_list.append(\n",
    "                    {\"rating\": data[\"rating\"], \"title\": data[\"title\"], \"text\": data[\"text\"]}\n",
    "                )\n",
    "            except json.JSONDecodeError as e:\n",
    "                print(f\"An error occurred: {e}\")\n",
    "                print(f\"An error occurred: {e.__traceback__}\")\n",
    "    df = pd.DataFrame(data_list)\n",
    "    return df"
   ]
  },
  {
   "cell_type": "code",
   "execution_count": 8,
   "metadata": {
    "collapsed": false,
    "ExecuteTime": {
     "end_time": "2024-06-08T11:08:54.895919Z",
     "start_time": "2024-06-08T11:08:54.884067Z"
    }
   },
   "outputs": [],
   "source": [
    "# filter_jsonl_file('All_Beauty.jsonl', 'Filtered_All_Beauty.jsonl')\n",
    "import pandas as pd\n",
    "import json\n",
    "\n",
    "\n",
    "def json_to_dataframe_rating_title(json_data):\n",
    "    data_list = []\n",
    "    for line in json_data.split(\"\\n\"):\n",
    "        if line.strip() != \"\":\n",
    "            try:\n",
    "                data = json.loads(line)\n",
    "                data_list.append(\n",
    "                    {\"rating\": data[\"rating\"], \"title\": data[\"title\"]}\n",
    "                )\n",
    "            except json.JSONDecodeError as e:\n",
    "                print(f\"An error occurred: {e}\")\n",
    "                print(f\"An error occurred: {e.__traceback__}\")\n",
    "    df = pd.DataFrame(data_list)\n",
    "    return df"
   ]
  },
  {
   "cell_type": "code",
   "execution_count": 114,
   "metadata": {
    "ExecuteTime": {
     "end_time": "2024-05-04T19:18:13.715870Z",
     "start_time": "2024-05-04T19:18:02.841325Z"
    },
    "id": "IvBRiXTceP7T"
   },
   "outputs": [],
   "source": [
    "json_data = open(\"All_Beauty.jsonl\", \"r\").read()\n",
    "df = json_to_dataframe(json_data)"
   ]
  },
  {
   "cell_type": "code",
   "execution_count": 9,
   "metadata": {
    "collapsed": false,
    "ExecuteTime": {
     "end_time": "2024-06-08T11:09:12.711023Z",
     "start_time": "2024-06-08T11:08:59.504083Z"
    }
   },
   "outputs": [],
   "source": [
    "json_data = open(\"All_Beauty.jsonl\", \"r\").read()\n",
    "df = json_to_dataframe_rating_title(json_data)"
   ]
  },
  {
   "cell_type": "code",
   "execution_count": 10,
   "metadata": {
    "colab": {
     "base_uri": "https://localhost:8080/"
    },
    "id": "gkz8bBnReUya",
    "outputId": "59f50e48-9851-4477-b728-1a7ca2214f6e",
    "ExecuteTime": {
     "end_time": "2024-06-08T11:09:17.394944Z",
     "start_time": "2024-06-08T11:09:17.384237Z"
    }
   },
   "outputs": [
    {
     "name": "stdout",
     "output_type": "stream",
     "text": [
      "   rating                                      title\n",
      "0     5.0  Such a lovely scent but not overpowering.\n",
      "1     4.0     Works great but smells a little weird.\n",
      "2     5.0                                       Yes!\n",
      "3     1.0                          Synthetic feeling\n",
      "4     5.0                                         A+\n"
     ]
    }
   ],
   "source": [
    "print(df.head())"
   ]
  },
  {
   "cell_type": "code",
   "execution_count": 11,
   "metadata": {
    "collapsed": false,
    "ExecuteTime": {
     "end_time": "2024-06-08T11:09:29.475543Z",
     "start_time": "2024-06-08T11:09:22.066023Z"
    }
   },
   "outputs": [
    {
     "name": "stdout",
     "output_type": "stream",
     "text": [
      "Requirement already satisfied: scikit-learn in c:\\users\\riad\\onedrive\\desktop\\py_env\\pythonproject2\\.venv\\lib\\site-packages (1.4.2)\n",
      "Requirement already satisfied: numpy>=1.19.5 in c:\\users\\riad\\onedrive\\desktop\\py_env\\pythonproject2\\.venv\\lib\\site-packages (from scikit-learn) (1.26.4)\n",
      "Requirement already satisfied: scipy>=1.6.0 in c:\\users\\riad\\onedrive\\desktop\\py_env\\pythonproject2\\.venv\\lib\\site-packages (from scikit-learn) (1.13.1)\n",
      "Requirement already satisfied: joblib>=1.2.0 in c:\\users\\riad\\onedrive\\desktop\\py_env\\pythonproject2\\.venv\\lib\\site-packages (from scikit-learn) (1.4.2)\n",
      "Requirement already satisfied: threadpoolctl>=2.0.0 in c:\\users\\riad\\onedrive\\desktop\\py_env\\pythonproject2\\.venv\\lib\\site-packages (from scikit-learn) (3.5.0)\n"
     ]
    },
    {
     "name": "stderr",
     "output_type": "stream",
     "text": [
      "\n",
      "[notice] A new release of pip is available: 23.2.1 -> 24.0\n",
      "[notice] To update, run: python.exe -m pip install --upgrade pip\n"
     ]
    }
   ],
   "source": [
    "!pip install scikit-learn"
   ]
  },
  {
   "cell_type": "markdown",
   "source": [
    "# training using nn"
   ],
   "metadata": {
    "collapsed": false
   }
  },
  {
   "cell_type": "code",
   "execution_count": 12,
   "metadata": {
    "collapsed": false,
    "ExecuteTime": {
     "end_time": "2024-06-08T11:54:55.625315Z",
     "start_time": "2024-06-08T11:10:21.018477Z"
    }
   },
   "outputs": [
    {
     "name": "stdout",
     "output_type": "stream",
     "text": [
      "   rating                                      title\n",
      "0     5.0  Such a lovely scent but not overpowering.\n",
      "1     4.0     Works great but smells a little weird.\n",
      "2     5.0                                       Yes!\n",
      "3     1.0                          Synthetic feeling\n",
      "4     5.0                                         A+\n",
      "starting training\n",
      "Iteration 1, loss = 1.08050602\n",
      "Iteration 2, loss = 0.76024054\n",
      "Iteration 3, loss = 0.67934319\n",
      "Iteration 4, loss = 0.63167882\n",
      "Iteration 5, loss = 0.59577530\n",
      "Iteration 6, loss = 0.56789871\n",
      "Iteration 7, loss = 0.54525418\n",
      "Iteration 8, loss = 0.52622481\n",
      "Iteration 9, loss = 0.51064498\n",
      "Iteration 10, loss = 0.49661005\n",
      "Iteration 11, loss = 0.48461882\n",
      "Iteration 12, loss = 0.47334021\n",
      "Iteration 13, loss = 0.46286208\n",
      "Iteration 14, loss = 0.45376132\n",
      "Iteration 15, loss = 0.44418076\n",
      "Iteration 16, loss = 0.43550938\n",
      "Iteration 17, loss = 0.42689391\n",
      "Iteration 18, loss = 0.41882546\n",
      "Iteration 19, loss = 0.41084278\n",
      "Iteration 20, loss = 0.40342182\n",
      "Iteration 21, loss = 0.39566023\n",
      "Iteration 22, loss = 0.38843749\n",
      "Iteration 23, loss = 0.38166254\n",
      "Iteration 24, loss = 0.37478280\n",
      "Iteration 25, loss = 0.36813950\n",
      "Iteration 26, loss = 0.36138486\n",
      "Iteration 27, loss = 0.35527584\n",
      "Iteration 28, loss = 0.34913225\n",
      "Iteration 29, loss = 0.34336403\n",
      "Iteration 30, loss = 0.33758749\n",
      "Iteration 31, loss = 0.33183003\n",
      "Iteration 32, loss = 0.32664609\n",
      "Iteration 33, loss = 0.32140002\n",
      "Iteration 34, loss = 0.31668073\n",
      "Iteration 35, loss = 0.31103395\n",
      "Iteration 36, loss = 0.30674507\n",
      "Iteration 37, loss = 0.30223943\n",
      "Iteration 38, loss = 0.29787601\n",
      "Iteration 39, loss = 0.29379450\n",
      "Iteration 40, loss = 0.28972267\n",
      "Iteration 41, loss = 0.28543520\n",
      "Iteration 42, loss = 0.28177834\n",
      "Iteration 43, loss = 0.27807616\n",
      "Iteration 44, loss = 0.27456876\n",
      "Iteration 45, loss = 0.27132408\n",
      "Iteration 46, loss = 0.26769554\n",
      "Iteration 47, loss = 0.26492834\n",
      "Iteration 48, loss = 0.26201214\n",
      "Iteration 49, loss = 0.25934636\n",
      "Iteration 50, loss = 0.25697744\n",
      "Iteration 51, loss = 0.25448366\n",
      "Iteration 52, loss = 0.25154357\n",
      "Iteration 53, loss = 0.24911874\n",
      "Iteration 54, loss = 0.24751225\n",
      "Iteration 55, loss = 0.24473587\n",
      "Iteration 56, loss = 0.24245536\n",
      "Iteration 57, loss = 0.24075438\n",
      "Iteration 58, loss = 0.23912123\n",
      "Iteration 59, loss = 0.23710783\n",
      "Iteration 60, loss = 0.23510470\n",
      "Iteration 61, loss = 0.23307153\n",
      "Iteration 62, loss = 0.23191154\n",
      "Iteration 63, loss = 0.23031158\n",
      "Iteration 64, loss = 0.22912704\n",
      "Iteration 65, loss = 0.22770264\n",
      "Iteration 66, loss = 0.22585778\n",
      "Iteration 67, loss = 0.22478784\n",
      "Iteration 68, loss = 0.22362408\n",
      "Iteration 69, loss = 0.22166115\n",
      "Iteration 70, loss = 0.22119911\n",
      "Iteration 71, loss = 0.21903759\n",
      "Iteration 72, loss = 0.21922999\n",
      "Iteration 73, loss = 0.21761946\n",
      "Iteration 74, loss = 0.21684104\n",
      "Iteration 75, loss = 0.21586418\n",
      "Iteration 76, loss = 0.21457612\n",
      "Iteration 77, loss = 0.21466024\n",
      "Iteration 78, loss = 0.21339359\n",
      "Iteration 79, loss = 0.21252411\n",
      "Iteration 80, loss = 0.21160151\n",
      "Iteration 81, loss = 0.21067044\n",
      "Iteration 82, loss = 0.21048871\n",
      "Iteration 83, loss = 0.20928066\n",
      "Iteration 84, loss = 0.20879622\n",
      "Iteration 85, loss = 0.20860939\n",
      "Iteration 86, loss = 0.20744428\n",
      "Iteration 87, loss = 0.20731899\n",
      "Iteration 88, loss = 0.20678452\n",
      "Iteration 89, loss = 0.20559469\n",
      "Iteration 90, loss = 0.20488838\n",
      "Iteration 91, loss = 0.20471569\n",
      "Iteration 92, loss = 0.20424402\n",
      "Iteration 93, loss = 0.20321796\n",
      "Iteration 94, loss = 0.20331458\n",
      "Iteration 95, loss = 0.20311081\n",
      "Iteration 96, loss = 0.20223971\n",
      "Iteration 97, loss = 0.20174455\n",
      "Iteration 98, loss = 0.20161836\n",
      "Iteration 99, loss = 0.20095197\n",
      "Iteration 100, loss = 0.20052978\n",
      "Iteration 101, loss = 0.20060254\n",
      "Iteration 102, loss = 0.20008738\n",
      "Iteration 103, loss = 0.19921212\n",
      "Iteration 104, loss = 0.19911753\n",
      "Iteration 105, loss = 0.19898992\n",
      "Iteration 106, loss = 0.19846690\n",
      "Iteration 107, loss = 0.19835471\n",
      "Iteration 108, loss = 0.19785895\n",
      "Iteration 109, loss = 0.19700588\n",
      "Iteration 110, loss = 0.19701022\n",
      "Iteration 111, loss = 0.19705603\n",
      "Iteration 112, loss = 0.19683923\n",
      "Iteration 113, loss = 0.19640674\n",
      "Iteration 114, loss = 0.19674064\n",
      "Iteration 115, loss = 0.19588936\n",
      "Iteration 116, loss = 0.19562730\n",
      "Iteration 117, loss = 0.19493462\n",
      "Iteration 118, loss = 0.19508936\n",
      "Iteration 119, loss = 0.19463726\n",
      "Iteration 120, loss = 0.19463400\n",
      "Iteration 121, loss = 0.19460963\n",
      "Iteration 122, loss = 0.19416083\n",
      "Iteration 123, loss = 0.19375578\n",
      "Iteration 124, loss = 0.19412513\n",
      "Iteration 125, loss = 0.19360965\n",
      "Iteration 126, loss = 0.19315852\n",
      "Iteration 127, loss = 0.19311475\n",
      "Iteration 128, loss = 0.19332447\n",
      "Iteration 129, loss = 0.19256657\n",
      "Iteration 130, loss = 0.19270337\n",
      "Iteration 131, loss = 0.19268074\n",
      "Iteration 132, loss = 0.19220211\n",
      "Iteration 133, loss = 0.19228306\n",
      "Iteration 134, loss = 0.19182744\n",
      "Iteration 135, loss = 0.19148215\n",
      "Iteration 136, loss = 0.19152451\n",
      "Iteration 137, loss = 0.19194650\n",
      "Iteration 138, loss = 0.19098725\n",
      "Iteration 139, loss = 0.19182336\n",
      "Iteration 140, loss = 0.19158053\n",
      "Iteration 141, loss = 0.19115744\n",
      "Iteration 142, loss = 0.19101266\n",
      "Iteration 143, loss = 0.19081625\n",
      "Iteration 144, loss = 0.19088813\n",
      "Iteration 145, loss = 0.19038059\n",
      "Iteration 146, loss = 0.19025709\n",
      "Iteration 147, loss = 0.19037029\n",
      "Iteration 148, loss = 0.18997747\n",
      "Iteration 149, loss = 0.18976948\n",
      "Iteration 150, loss = 0.19018941\n",
      "Iteration 151, loss = 0.18950825\n",
      "Iteration 152, loss = 0.18925571\n",
      "Iteration 153, loss = 0.18993553\n",
      "Iteration 154, loss = 0.18941493\n",
      "Iteration 155, loss = 0.18897137\n",
      "Iteration 156, loss = 0.18909315\n",
      "Iteration 157, loss = 0.18958477\n",
      "Iteration 158, loss = 0.18929411\n",
      "Iteration 159, loss = 0.18904943\n",
      "Iteration 160, loss = 0.18880930\n",
      "Iteration 161, loss = 0.18880786\n",
      "Iteration 162, loss = 0.18871312\n",
      "Iteration 163, loss = 0.18865429\n",
      "Iteration 164, loss = 0.18829665\n",
      "Iteration 165, loss = 0.18880416\n",
      "Iteration 166, loss = 0.18819720\n",
      "Iteration 167, loss = 0.18809153\n",
      "Iteration 168, loss = 0.18772860\n",
      "Iteration 169, loss = 0.18798581\n",
      "Iteration 170, loss = 0.18824305\n",
      "Iteration 171, loss = 0.18735072\n",
      "Iteration 172, loss = 0.18798225\n",
      "Iteration 173, loss = 0.18753674\n",
      "Iteration 174, loss = 0.18720286\n",
      "Iteration 175, loss = 0.18826296\n",
      "Iteration 176, loss = 0.18749828\n",
      "Iteration 177, loss = 0.18737104\n",
      "Iteration 178, loss = 0.18726694\n",
      "Iteration 179, loss = 0.18695999\n",
      "Iteration 180, loss = 0.18723986\n",
      "Iteration 181, loss = 0.18735327\n",
      "Iteration 182, loss = 0.18711292\n",
      "Iteration 183, loss = 0.18718886\n",
      "Iteration 184, loss = 0.18670632\n",
      "Iteration 185, loss = 0.18656702\n",
      "Iteration 186, loss = 0.18629906\n",
      "Iteration 187, loss = 0.18699988\n",
      "Iteration 188, loss = 0.18707394\n",
      "Iteration 189, loss = 0.18640422\n",
      "Iteration 190, loss = 0.18646207\n",
      "Iteration 191, loss = 0.18654419\n",
      "Iteration 192, loss = 0.18653656\n",
      "Iteration 193, loss = 0.18682598\n",
      "Iteration 194, loss = 0.18603605\n",
      "Iteration 195, loss = 0.18657050\n",
      "Iteration 196, loss = 0.18623549\n",
      "Iteration 197, loss = 0.18612746\n",
      "Iteration 198, loss = 0.18628707\n",
      "Iteration 199, loss = 0.18612820\n",
      "Iteration 200, loss = 0.18590970\n"
     ]
    },
    {
     "name": "stderr",
     "output_type": "stream",
     "text": [
      "C:\\Users\\riad\\OneDrive\\Desktop\\py_env\\pythonProject2\\.venv\\Lib\\site-packages\\sklearn\\neural_network\\_multilayer_perceptron.py:691: ConvergenceWarning: Stochastic Optimizer: Maximum iterations (200) reached and the optimization hasn't converged yet.\n",
      "  warnings.warn(\n"
     ]
    },
    {
     "name": "stdout",
     "output_type": "stream",
     "text": [
      "Model accuracy: 0.6835\n"
     ]
    }
   ],
   "source": [
    "from sklearn.model_selection import train_test_split\n",
    "from sklearn.feature_extraction.text import TfidfVectorizer\n",
    "from sklearn.naive_bayes import MultinomialNB\n",
    "from sklearn.metrics import accuracy_score\n",
    "from sklearn.pipeline import Pipeline\n",
    "# import pandas as pd\n",
    "import numpy as np\n",
    "from sklearn.neural_network import MLPClassifier\n",
    "from joblib import dump\n",
    "\n",
    "print(df.head())\n",
    "\n",
    "# Combine 'title' and 'text' columns\n",
    "df['title_text'] = df['title']\n",
    "df = df.head(50000)\n",
    "# Split the data into training and test sets\n",
    "X_train, X_test, y_train, y_test = train_test_split(df['title_text'], df['rating'], test_size=0.2, random_state=42)\n",
    "print(\"starting training\")\n",
    "# Create a pipeline that first transforms the 'title_text' into feature vectors then trains the classifier\n",
    "text_clf = Pipeline([\n",
    "    ('tfidf', TfidfVectorizer()),\n",
    "    ('clf', MLPClassifier(verbose=True)),  # Set warm_start to True\n",
    "])\n",
    "# for i in range(100):  # Replace 100 with the number of iterations you want\n",
    "text_clf.fit(X_train, y_train)\n",
    "# dump(text_clf, f'model_checkpoint_{i}.joblib')\n",
    "# save the model\n",
    "try:\n",
    "    dump(text_clf, 'model.joblib')\n",
    "except Exception as e:\n",
    "    print(f\"An error occurred in saving the model: {e}\")\n",
    "\n",
    "# Predict the test set results\n",
    "y_pred = text_clf.predict(X_test)\n",
    "\n",
    "# Calculate accuracy\n",
    "accuracy = accuracy_score(y_test, y_pred)\n",
    "\n",
    "print(f\"Model accuracy: {accuracy}\")"
   ]
  },
  {
   "cell_type": "code",
   "outputs": [
    {
     "name": "stdout",
     "output_type": "stream",
     "text": [
      "Model accuracy: 0.6903\n"
     ]
    }
   ],
   "source": [
    "from sklearn.model_selection import train_test_split\n",
    "from sklearn.feature_extraction.text import TfidfVectorizer\n",
    "from sklearn.naive_bayes import MultinomialNB\n",
    "from sklearn.metrics import accuracy_score\n",
    "from sklearn.pipeline import Pipeline\n",
    "from joblib import dump\n",
    "\n",
    "# Combine 'title' and 'text' columns\n",
    "df['title_text'] = df['title']\n",
    "df = df.head(50000)\n",
    "\n",
    "# Split the data into training and test sets\n",
    "X_train, X_test, y_train, y_test = train_test_split(df['title_text'], df['rating'], test_size=0.2, random_state=42)\n",
    "\n",
    "# Create a pipeline that first transforms the 'title_text' into feature vectors then trains the classifier\n",
    "text_clf = Pipeline([\n",
    "    ('tfidf', TfidfVectorizer()),\n",
    "    ('clf', MultinomialNB()),  # Use MultinomialNB instead of MLPClassifier\n",
    "])\n",
    "\n",
    "# Train the classifier\n",
    "text_clf.fit(X_train, y_train)\n",
    "\n",
    "# Save the model\n",
    "try:\n",
    "    dump(text_clf, 'modelNB.joblib')\n",
    "except Exception as e:\n",
    "    print(f\"An error occurred in saving the model: {e}\")\n",
    "\n",
    "# Predict the test set results\n",
    "y_pred = text_clf.predict(X_test)\n",
    "\n",
    "# Calculate accuracy\n",
    "accuracy = accuracy_score(y_test, y_pred)\n",
    "\n",
    "print(f\"Model accuracy: {accuracy}\")"
   ],
   "metadata": {
    "collapsed": false,
    "ExecuteTime": {
     "end_time": "2024-06-08T11:58:10.473968Z",
     "start_time": "2024-06-08T11:58:07.772976Z"
    }
   },
   "execution_count": 14
  },
  {
   "cell_type": "markdown",
   "source": [
    "**not accurate**"
   ],
   "metadata": {
    "collapsed": false
   }
  },
  {
   "cell_type": "code",
   "outputs": [
    {
     "data": {
      "text/plain": "array([5.])"
     },
     "execution_count": 16,
     "metadata": {},
     "output_type": "execute_result"
    }
   ],
   "source": [
    "text_clf.predict([\"i hate this\"]) # not accurate"
   ],
   "metadata": {
    "collapsed": false,
    "ExecuteTime": {
     "end_time": "2024-06-08T11:58:54.708651Z",
     "start_time": "2024-06-08T11:58:54.683605Z"
    }
   },
   "execution_count": 16
  },
  {
   "cell_type": "markdown",
   "source": [
    "# using decision tree"
   ],
   "metadata": {
    "collapsed": false
   }
  },
  {
   "cell_type": "code",
   "outputs": [
    {
     "name": "stdout",
     "output_type": "stream",
     "text": [
      "Model accuracy: 0.6733\n"
     ]
    }
   ],
   "source": [
    "from sklearn.model_selection import train_test_split\n",
    "from sklearn.feature_extraction.text import TfidfVectorizer\n",
    "from sklearn.tree import DecisionTreeClassifier\n",
    "from sklearn.metrics import accuracy_score\n",
    "from sklearn.pipeline import Pipeline\n",
    "from joblib import dump\n",
    "\n",
    "# Combine 'title' and 'text' columns\n",
    "df['title_text'] = df['title']\n",
    "df = df.head(50000)\n",
    "\n",
    "# Split the data into training and test sets\n",
    "X_train, X_test, y_train, y_test = train_test_split(df['title_text'], df['rating'], test_size=0.2, random_state=42)\n",
    "\n",
    "# Create a pipeline that first transforms the 'title_text' into feature vectors then trains the classifier\n",
    "text_clf = Pipeline([\n",
    "    ('tfidf', TfidfVectorizer()),\n",
    "    ('clf', DecisionTreeClassifier()),  # Use DecisionTreeClassifier instead of MultinomialNB\n",
    "])\n",
    "\n",
    "# Train the classifier\n",
    "text_clf.fit(X_train, y_train)\n",
    "\n",
    "# Save the model\n",
    "try:\n",
    "    dump(text_clf, 'modelDT.joblib')\n",
    "except Exception as e:\n",
    "    print(f\"An error occurred in saving the model: {e}\")\n",
    "\n",
    "# Predict the test set results\n",
    "y_pred = text_clf.predict(X_test)\n",
    "\n",
    "# Calculate accuracy\n",
    "accuracy = accuracy_score(y_test, y_pred)\n",
    "\n",
    "print(f\"Model accuracy: {accuracy}\")"
   ],
   "metadata": {
    "collapsed": false,
    "ExecuteTime": {
     "end_time": "2024-06-08T12:00:56.819289Z",
     "start_time": "2024-06-08T12:00:28.460385Z"
    }
   },
   "execution_count": 17
  },
  {
   "cell_type": "code",
   "outputs": [
    {
     "data": {
      "text/plain": "array([1., 5.])"
     },
     "execution_count": 27,
     "metadata": {},
     "output_type": "execute_result"
    }
   ],
   "source": [
    "\n",
    "text_clf.predict([\"not expensive\", \"so expensive\"]) # not accurate but much better than naive bayes\n"
   ],
   "metadata": {
    "collapsed": false,
    "ExecuteTime": {
     "end_time": "2024-06-08T12:03:45.524571Z",
     "start_time": "2024-06-08T12:03:45.512165Z"
    }
   },
   "execution_count": 27
  },
  {
   "cell_type": "markdown",
   "source": [
    "# using knn"
   ],
   "metadata": {
    "collapsed": false
   }
  },
  {
   "cell_type": "code",
   "outputs": [
    {
     "name": "stdout",
     "output_type": "stream",
     "text": [
      "Model accuracy: 0.6762\n"
     ]
    }
   ],
   "source": [
    "from sklearn.model_selection import train_test_split\n",
    "from sklearn.feature_extraction.text import TfidfVectorizer\n",
    "from sklearn.neighbors import KNeighborsClassifier\n",
    "from sklearn.metrics import accuracy_score\n",
    "from sklearn.pipeline import Pipeline\n",
    "from joblib import dump\n",
    "\n",
    "# Combine 'title' and 'text' columns\n",
    "df['title_text'] = df['title']\n",
    "df = df.head(50000)\n",
    "\n",
    "# Split the data into training and test sets\n",
    "X_train, X_test, y_train, y_test = train_test_split(df['title_text'], df['rating'], test_size=0.2, random_state=42)\n",
    "\n",
    "# Create a pipeline that first transforms the 'title_text' into feature vectors then trains the classifier\n",
    "text_clf = Pipeline([\n",
    "    ('tfidf', TfidfVectorizer()),\n",
    "    ('clf', KNeighborsClassifier()),  # Use KNeighborsClassifier instead of DecisionTreeClassifier\n",
    "])\n",
    "\n",
    "# Train the classifier\n",
    "text_clf.fit(X_train, y_train)\n",
    "\n",
    "# Save the model\n",
    "try:\n",
    "    dump(text_clf, 'modelKNN.joblib')\n",
    "except Exception as e:\n",
    "    print(f\"An error occurred in saving the model: {e}\")\n",
    "\n",
    "# Predict the test set results\n",
    "y_pred = text_clf.predict(X_test)\n",
    "\n",
    "# Calculate accuracy\n",
    "accuracy = accuracy_score(y_test, y_pred)\n",
    "\n",
    "print(f\"Model accuracy: {accuracy}\")"
   ],
   "metadata": {
    "collapsed": false,
    "ExecuteTime": {
     "end_time": "2024-06-08T12:05:56.138371Z",
     "start_time": "2024-06-08T12:05:37.166792Z"
    }
   },
   "execution_count": 28
  },
  {
   "cell_type": "code",
   "outputs": [
    {
     "data": {
      "text/plain": "array([1., 1., 1., 5., 1., 2., 1., 3., 1., 4.])"
     },
     "execution_count": 36,
     "metadata": {},
     "output_type": "execute_result"
    }
   ],
   "source": [
    "text_clf.predict([\n",
    "    \"very cheap\",\n",
    "                 \"very expensive\",\n",
    "    \"not expensive\",\n",
    "    \"love it\",\n",
    "    \"hate it\",\n",
    "    \"so good\",\n",
    "    \"so bad\",\n",
    "    \"so so\",\n",
    "    \"not good\",\n",
    "    \"not bad\",\n",
    "                  ]) # not accurate but much better than naive bayes"
   ],
   "metadata": {
    "collapsed": false,
    "ExecuteTime": {
     "end_time": "2024-06-08T12:08:12.869837Z",
     "start_time": "2024-06-08T12:08:12.835710Z"
    }
   },
   "execution_count": 36
  },
  {
   "cell_type": "markdown",
   "metadata": {
    "collapsed": false
   },
   "source": [
    "# scaling the rating will not work properly"
   ]
  },
  {
   "cell_type": "code",
   "execution_count": 111,
   "metadata": {
    "ExecuteTime": {
     "end_time": "2024-05-04T17:50:07.889242Z",
     "start_time": "2024-05-04T16:17:26.798078Z"
    },
    "collapsed": false
   },
   "outputs": [
    {
     "name": "stdout",
     "output_type": "stream",
     "text": [
      "   rating                                      title  \\\n",
      "0     5.0  Such a lovely scent but not overpowering.   \n",
      "1     4.0     Works great but smells a little weird.   \n",
      "2     5.0                                       Yes!   \n",
      "3     1.0                          Synthetic feeling   \n",
      "4     5.0                                         A+   \n",
      "\n",
      "                                                text  \\\n",
      "0  This spray is really nice. It smells really go...   \n",
      "1  This product does what I need it to do, I just...   \n",
      "2                          Smells good, feels great!   \n",
      "3                                     Felt synthetic   \n",
      "4                                            Love it   \n",
      "\n",
      "                                          title_text  rating_scaled  \\\n",
      "0  Such a lovely scent but not overpowering. This...           10.0   \n",
      "1  Works great but smells a little weird. This pr...            8.0   \n",
      "2                     Yes! Smells good, feels great!           10.0   \n",
      "3                   Synthetic feeling Felt synthetic            2.0   \n",
      "4                                         A+ Love it           10.0   \n",
      "\n",
      "   second_digit  rating_final  \n",
      "0             4         104.0  \n",
      "1             4          84.0  \n",
      "2             2         102.0  \n",
      "3             1          21.0  \n",
      "4             1         101.0  \n",
      "Iteration 1, loss = 3.47661449\n",
      "Iteration 2, loss = 3.09765832\n",
      "Iteration 3, loss = 2.89800977\n",
      "Iteration 4, loss = 2.72748557\n",
      "Iteration 5, loss = 2.54413435\n",
      "Iteration 6, loss = 2.34350611\n",
      "Iteration 7, loss = 2.13623477\n",
      "Iteration 8, loss = 1.93686246\n",
      "Iteration 9, loss = 1.75643114\n",
      "Iteration 10, loss = 1.59828022\n",
      "Iteration 11, loss = 1.46428715\n",
      "Iteration 12, loss = 1.35118411\n",
      "Iteration 13, loss = 1.25646021\n",
      "Iteration 14, loss = 1.17506125\n",
      "Iteration 15, loss = 1.10673747\n",
      "Iteration 16, loss = 1.04703287\n",
      "Iteration 17, loss = 0.99490969\n",
      "Iteration 18, loss = 0.94914495\n",
      "Iteration 19, loss = 0.90816547\n",
      "Iteration 20, loss = 0.87179620\n",
      "Iteration 21, loss = 0.83926756\n",
      "Iteration 22, loss = 0.80973313\n",
      "Iteration 23, loss = 0.78299859\n",
      "Iteration 24, loss = 0.75904919\n",
      "Iteration 25, loss = 0.73688623\n",
      "Iteration 26, loss = 0.71616205\n",
      "Iteration 27, loss = 0.69802552\n",
      "Iteration 28, loss = 0.67993633\n",
      "Iteration 29, loss = 0.66350136\n",
      "Iteration 30, loss = 0.64932658\n",
      "Iteration 31, loss = 0.63531565\n",
      "Iteration 32, loss = 0.62201447\n",
      "Iteration 33, loss = 0.61043837\n",
      "Iteration 34, loss = 0.59913620\n",
      "Iteration 35, loss = 0.58818970\n",
      "Iteration 36, loss = 0.57817674\n",
      "Iteration 37, loss = 0.56872438\n",
      "Iteration 38, loss = 0.55980894\n",
      "Iteration 39, loss = 0.55151569\n",
      "Iteration 40, loss = 0.54351061\n",
      "Iteration 41, loss = 0.53568164\n",
      "Iteration 42, loss = 0.52886455\n",
      "Iteration 43, loss = 0.52190443\n",
      "Iteration 44, loss = 0.51524239\n",
      "Iteration 45, loss = 0.50895491\n",
      "Iteration 46, loss = 0.50281228\n",
      "Iteration 47, loss = 0.49774946\n",
      "Iteration 48, loss = 0.49169393\n",
      "Iteration 49, loss = 0.48683700\n",
      "Iteration 50, loss = 0.48180006\n",
      "Iteration 51, loss = 0.47702322\n",
      "Iteration 52, loss = 0.47254086\n",
      "Iteration 53, loss = 0.46837355\n",
      "Iteration 54, loss = 0.46369482\n",
      "Iteration 55, loss = 0.45967804\n",
      "Iteration 56, loss = 0.45576384\n",
      "Iteration 57, loss = 0.45188173\n",
      "Iteration 58, loss = 0.44857993\n",
      "Iteration 59, loss = 0.44473271\n",
      "Iteration 60, loss = 0.44108662\n",
      "Iteration 61, loss = 0.43784060\n",
      "Iteration 62, loss = 0.43430979\n",
      "Iteration 63, loss = 0.43160045\n",
      "Iteration 64, loss = 0.42874531\n",
      "Iteration 65, loss = 0.42514360\n",
      "Iteration 66, loss = 0.42267125\n",
      "Iteration 67, loss = 0.41911214\n",
      "Iteration 68, loss = 0.41711105\n",
      "Iteration 69, loss = 0.41425235\n",
      "Iteration 70, loss = 0.41204913\n",
      "Iteration 71, loss = 0.40880887\n",
      "Iteration 72, loss = 0.40621526\n",
      "Iteration 73, loss = 0.40366052\n",
      "Iteration 74, loss = 0.40158158\n",
      "Iteration 75, loss = 0.39876485\n",
      "Iteration 76, loss = 0.39631783\n",
      "Iteration 77, loss = 0.39473367\n",
      "Iteration 78, loss = 0.39205026\n",
      "Iteration 79, loss = 0.39055718\n",
      "Iteration 80, loss = 0.38821378\n",
      "Iteration 81, loss = 0.38591381\n",
      "Iteration 82, loss = 0.38388576\n",
      "Iteration 83, loss = 0.38196990\n",
      "Iteration 84, loss = 0.38039725\n",
      "Iteration 85, loss = 0.37788542\n",
      "Iteration 86, loss = 0.37564200\n",
      "Iteration 87, loss = 0.37332500\n",
      "Iteration 88, loss = 0.37220744\n",
      "Iteration 89, loss = 0.37047330\n",
      "Iteration 90, loss = 0.36860939\n",
      "Iteration 91, loss = 0.36655432\n",
      "Iteration 92, loss = 0.36513492\n",
      "Iteration 93, loss = 0.36334605\n",
      "Iteration 94, loss = 0.36123652\n",
      "Iteration 95, loss = 0.36005955\n",
      "Iteration 96, loss = 0.35860928\n",
      "Iteration 97, loss = 0.35693842\n",
      "Iteration 98, loss = 0.35498024\n",
      "Iteration 99, loss = 0.35439239\n",
      "Iteration 100, loss = 0.35228822\n",
      "Iteration 101, loss = 0.35028060\n",
      "Iteration 102, loss = 0.34941524\n",
      "Iteration 103, loss = 0.34733878\n",
      "Iteration 104, loss = 0.34612870\n",
      "Iteration 105, loss = 0.34474517\n",
      "Iteration 106, loss = 0.34389848\n",
      "Iteration 107, loss = 0.34169492\n",
      "Iteration 108, loss = 0.34014306\n",
      "Iteration 109, loss = 0.33866403\n",
      "Iteration 110, loss = 0.33709210\n",
      "Iteration 111, loss = 0.33593533\n",
      "Iteration 112, loss = 0.33476753\n",
      "Iteration 113, loss = 0.33309600\n",
      "Iteration 114, loss = 0.33189484\n",
      "Iteration 115, loss = 0.33074186\n",
      "Iteration 116, loss = 0.32925299\n",
      "Iteration 117, loss = 0.32881056\n",
      "Iteration 118, loss = 0.32712386\n",
      "Iteration 119, loss = 0.32600505\n",
      "Iteration 120, loss = 0.32375087\n",
      "Iteration 121, loss = 0.32261164\n",
      "Iteration 122, loss = 0.32208631\n",
      "Iteration 123, loss = 0.32043510\n",
      "Iteration 124, loss = 0.31900073\n",
      "Iteration 125, loss = 0.31788922\n",
      "Iteration 126, loss = 0.31710108\n",
      "Iteration 127, loss = 0.31615481\n",
      "Iteration 128, loss = 0.31415514\n",
      "Iteration 129, loss = 0.31387774\n",
      "Iteration 130, loss = 0.31194961\n",
      "Iteration 131, loss = 0.31069213\n",
      "Iteration 132, loss = 0.30931437\n",
      "Iteration 133, loss = 0.30951375\n",
      "Iteration 134, loss = 0.30748898\n",
      "Iteration 135, loss = 0.30638130\n",
      "Iteration 136, loss = 0.30491797\n",
      "Iteration 137, loss = 0.30435767\n",
      "Iteration 138, loss = 0.30288680\n",
      "Iteration 139, loss = 0.30147222\n",
      "Iteration 140, loss = 0.30109651\n",
      "Iteration 141, loss = 0.29957534\n",
      "Iteration 142, loss = 0.29860216\n",
      "Iteration 143, loss = 0.29744476\n",
      "Iteration 144, loss = 0.29624452\n",
      "Iteration 145, loss = 0.29509106\n",
      "Iteration 146, loss = 0.29408661\n",
      "Iteration 147, loss = 0.29319007\n",
      "Iteration 148, loss = 0.29263420\n",
      "Iteration 149, loss = 0.29166119\n",
      "Iteration 150, loss = 0.29065221\n",
      "Iteration 151, loss = 0.28908492\n",
      "Iteration 152, loss = 0.28825187\n",
      "Iteration 153, loss = 0.28716539\n",
      "Iteration 154, loss = 0.28567307\n",
      "Iteration 155, loss = 0.28503852\n",
      "Iteration 156, loss = 0.28338583\n",
      "Iteration 157, loss = 0.28353472\n",
      "Iteration 158, loss = 0.28272821\n",
      "Iteration 159, loss = 0.28213631\n",
      "Iteration 160, loss = 0.28055881\n",
      "Iteration 161, loss = 0.27951556\n",
      "Iteration 162, loss = 0.27849673\n",
      "Iteration 163, loss = 0.27802894\n",
      "Iteration 164, loss = 0.27627742\n",
      "Iteration 165, loss = 0.27537748\n",
      "Iteration 166, loss = 0.27487182\n",
      "Iteration 167, loss = 0.27372637\n",
      "Iteration 168, loss = 0.27324454\n",
      "Iteration 169, loss = 0.27264878\n",
      "Iteration 170, loss = 0.27111961\n",
      "Iteration 171, loss = 0.27070167\n",
      "Iteration 172, loss = 0.26932754\n",
      "Iteration 173, loss = 0.26881615\n",
      "Iteration 174, loss = 0.26743940\n",
      "Iteration 175, loss = 0.26683595\n",
      "Iteration 176, loss = 0.26650073\n",
      "Iteration 177, loss = 0.26552184\n",
      "Iteration 178, loss = 0.26479747\n",
      "Iteration 179, loss = 0.26345840\n",
      "Iteration 180, loss = 0.26258760\n",
      "Iteration 181, loss = 0.26198853\n",
      "Iteration 182, loss = 0.26097028\n",
      "Iteration 183, loss = 0.26107852\n",
      "Iteration 184, loss = 0.25984853\n",
      "Iteration 185, loss = 0.25904413\n",
      "Iteration 186, loss = 0.25742515\n",
      "Iteration 187, loss = 0.25790391\n",
      "Iteration 188, loss = 0.25635444\n",
      "Iteration 189, loss = 0.25578841\n",
      "Iteration 190, loss = 0.25521241\n",
      "Iteration 191, loss = 0.25399455\n",
      "Iteration 192, loss = 0.25343350\n",
      "Iteration 193, loss = 0.25279764\n",
      "Iteration 194, loss = 0.25252212\n",
      "Iteration 195, loss = 0.25140176\n",
      "Iteration 196, loss = 0.25064170\n",
      "Iteration 197, loss = 0.25024176\n",
      "Iteration 198, loss = 0.24932278\n",
      "Iteration 199, loss = 0.24843894\n",
      "Iteration 200, loss = 0.24694947\n"
     ]
    },
    {
     "name": "stderr",
     "output_type": "stream",
     "text": [
      "/home/saeed/Desktop/py_env/GA-NLP_rnn/.venv/lib/python3.12/site-packages/sklearn/neural_network/_multilayer_perceptron.py:691: ConvergenceWarning: Stochastic Optimizer: Maximum iterations (200) reached and the optimization hasn't converged yet.\n",
      "  warnings.warn(\n"
     ]
    },
    {
     "name": "stdout",
     "output_type": "stream",
     "text": [
      "Model accuracy: 0.0664\n"
     ]
    }
   ],
   "source": [
    "from sklearn.model_selection import train_test_split\n",
    "from sklearn.feature_extraction.text import TfidfVectorizer\n",
    "from sklearn.naive_bayes import MultinomialNB\n",
    "from sklearn.metrics import accuracy_score\n",
    "from sklearn.pipeline import Pipeline\n",
    "import pandas as pd\n",
    "import numpy as np\n",
    "from sklearn.neural_network import MLPClassifier\n",
    "from joblib import dump\n",
    "\n",
    "# Combine 'title' and 'text' columns\n",
    "df['title_text'] = df['title'] + \" \" + df['text']\n",
    "df = df.head(200000)\n",
    "print(df.head())\n",
    "# Split the data into training and test sets\n",
    "import random\n",
    "\n",
    "# Scale ratings from 1-5 to 1-10\n",
    "df['rating_scaled'] = df['rating'] * 2\n",
    "\n",
    "# Generate a random second digit for each rating\n",
    "df['second_digit'] = [random.randint(0, 9) for _ in range(len(df))]\n",
    "\n",
    "# Combine the first and second digits to get the new rating\n",
    "df['rating_final'] = df['rating_scaled'] * 10 + df['second_digit']\n",
    "\n",
    "# Now use 'rating_final' for training\n",
    "X_train, X_test, y_train, y_test = train_test_split(df['title_text'], df[' '], test_size=0.2, random_state=42)\n",
    "# Create a pipeline that first transforms the 'title_text' into feature vectors then trains the classifier\n",
    "text_clf = Pipeline([\n",
    "    ('tfidf', TfidfVectorizer()),\n",
    "    ('clf', MLPClassifier(verbose=True)),\n",
    "])\n",
    "\n",
    "# Train the classifier\n",
    "text_clf.fit(X_train, y_train)\n",
    "# save the model\n",
    "try:\n",
    "    dump(text_clf, 'model2_scaled.joblib')\n",
    "except Exception as e:\n",
    "    print(f\"An error occurred in saving the model: {e}\")\n",
    "# Predict the test set results\n",
    "y_pred = text_clf.predict(X_test)\n",
    "\n",
    "# Calculate accuracy\n",
    "accuracy = accuracy_score(y_test, y_pred)\n",
    "\n",
    "print(f\"Model accuracy: {accuracy}\")"
   ]
  },
  {
   "cell_type": "code",
   "execution_count": 8,
   "metadata": {},
   "outputs": [
    {
     "name": "stdout",
     "output_type": "stream",
     "text": [
      "Requirement already satisfied: joblib in ./.venv/lib/python3.11/site-packages (1.4.2)\n"
     ]
    }
   ],
   "source": [
    "!pip install joblib"
   ]
  },
  {
   "cell_type": "code",
   "execution_count": 1,
   "metadata": {
    "ExecuteTime": {
     "end_time": "2024-06-08T12:11:50.215248Z",
     "start_time": "2024-06-08T12:11:47.644852Z"
    }
   },
   "outputs": [],
   "source": [
    "import joblib\n",
    "\n",
    "text_clf = joblib.load('model.joblib')"
   ]
  },
  {
   "cell_type": "code",
   "execution_count": 3,
   "metadata": {
    "collapsed": false,
    "ExecuteTime": {
     "end_time": "2024-06-08T12:11:55.506054Z",
     "start_time": "2024-06-08T12:11:55.493996Z"
    }
   },
   "outputs": [
    {
     "data": {
      "text/plain": "array([5.])"
     },
     "execution_count": 3,
     "metadata": {},
     "output_type": "execute_result"
    }
   ],
   "source": [
    "\n",
    "text_clf.predict([\"makes me so good\"])"
   ]
  },
  {
   "cell_type": "code",
   "execution_count": 67,
   "metadata": {
    "ExecuteTime": {
     "end_time": "2024-05-04T13:55:56.372855Z",
     "start_time": "2024-05-04T13:55:56.366403Z"
    },
    "collapsed": false
   },
   "outputs": [],
   "source": [
    "import json\n",
    "def save_dictionary_from_data_frame_to_json(df,column_name, filename):\n",
    "    \"\"\"\n",
    "    this function takes a dataframe , and in it's column_name there should be a text and it will iterare \n",
    "    :param df: \n",
    "    :param filename: \n",
    "    :return: \n",
    "    \"\"\"\n",
    "    data_dict = dict()\n",
    "    c = 0\n",
    "    for sentence in df[column_name]:\n",
    "        for word in sentence.split(\" \"):\n",
    "            if word not in data_dict.keys():\n",
    "                c+=1\n",
    "            data_dict[word] = c\n",
    "    with open(filename, 'w') as f:\n",
    "        json.dump(data_dict, f)"
   ]
  },
  {
   "cell_type": "code",
   "execution_count": 78,
   "metadata": {
    "ExecuteTime": {
     "end_time": "2024-05-04T14:50:52.657956Z",
     "start_time": "2024-05-04T14:50:52.652763Z"
    },
    "collapsed": false
   },
   "outputs": [],
   "source": [
    "import re\n",
    "\n",
    "def save_dictionary_from_data_frame_to_txt(df, column_name, filename):\n",
    "    \"\"\"\n",
    "    this function takes a dataframe, and in its column_name there should be text, and it will iterate\n",
    "    :param df: DataFrame containing text data\n",
    "    :param column_name: Name of the column in the DataFrame containing text\n",
    "    :param filename: Name of the file to save the dictionary\n",
    "    \"\"\"\n",
    "    data_dict = set()\n",
    "    for sentence in df[column_name]:\n",
    "        words = re.findall(r'\\b\\w+\\b', sentence)  # Using regex to extract words\n",
    "        data_dict.update(words)\n",
    "    with open(filename, 'w') as f:\n",
    "        for word in data_dict:\n",
    "            f.write(f\"{word}\\n\")\n"
   ]
  },
  {
   "cell_type": "code",
   "execution_count": 99,
   "metadata": {
    "ExecuteTime": {
     "end_time": "2024-05-04T15:50:29.735617Z",
     "start_time": "2024-05-04T15:50:29.729437Z"
    },
    "collapsed": false
   },
   "outputs": [],
   "source": [
    "import re\n",
    "def save_dictionary_from_data_frame_to_txt_most_n_times(df, column_name, filename, n):\n",
    "    words_dict = dict()\n",
    "    words_arr = []\n",
    "    for sentence in df[column_name]:\n",
    "        words = re.findall(r'\\b\\w+\\b', sentence)  # Using regex to extract words\n",
    "        words_arr.append(words)\n",
    "    for sentence_p in words_arr:\n",
    "        for w in sentence_p:\n",
    "            if w in words_dict.keys():            \n",
    "                words_dict[w] = words_dict[w] + 1 \n",
    "            else:\n",
    "                words_dict[w] = 1\n",
    "    final_arr = []\n",
    "    for key in words_dict.keys():\n",
    "        if words_dict[key] >= n:\n",
    "            final_arr.append(key)\n",
    "    with open(filename, 'w') as f:\n",
    "        for w in final_arr:\n",
    "            f.write(f\"{w}\\n\")"
   ]
  },
  {
   "cell_type": "code",
   "execution_count": 57,
   "metadata": {
    "ExecuteTime": {
     "end_time": "2024-05-04T13:50:11.699956Z",
     "start_time": "2024-05-04T13:50:11.687333Z"
    },
    "collapsed": false
   },
   "outputs": [
    {
     "data": {
      "text/plain": [
       "0        Such a lovely scent but not overpowering. This...\n",
       "1        Works great but smells a little weird. This pr...\n",
       "2                           Yes! Smells good, feels great!\n",
       "3                         Synthetic feeling Felt synthetic\n",
       "4                                               A+ Love it\n",
       "                               ...                        \n",
       "49995    These were too heavy for me. I found these a l...\n",
       "49996    Fun to use Love playing around with different ...\n",
       "49997    More cosmetics, less cake flavoring. Not what ...\n",
       "49998    Beautiful, creamy, silky, stain for lips and c...\n",
       "49999    Maybe better for kids’ hair. The scrunchies ar...\n",
       "Name: title_text, Length: 50000, dtype: object"
      ]
     },
     "execution_count": 57,
     "metadata": {},
     "output_type": "execute_result"
    }
   ],
   "source": [
    "df[\"title_text\"]"
   ]
  },
  {
   "cell_type": "markdown",
   "metadata": {
    "collapsed": false
   },
   "source": []
  },
  {
   "cell_type": "code",
   "execution_count": 68,
   "metadata": {
    "ExecuteTime": {
     "end_time": "2024-05-04T13:56:03.709007Z",
     "start_time": "2024-05-04T13:56:02.496190Z"
    },
    "collapsed": false
   },
   "outputs": [],
   "source": [
    "save_dictionary_from_data_frame_to_json(df, \"title_text\", \"dictionary.json\")"
   ]
  },
  {
   "cell_type": "code",
   "execution_count": 79,
   "metadata": {
    "ExecuteTime": {
     "end_time": "2024-05-04T14:50:59.462682Z",
     "start_time": "2024-05-04T14:50:56.573717Z"
    },
    "collapsed": false
   },
   "outputs": [],
   "source": [
    "save_dictionary_from_data_frame_to_txt(df, \"title_text\", \"dictionary.txt\")"
   ]
  },
  {
   "cell_type": "code",
   "execution_count": 103,
   "metadata": {
    "ExecuteTime": {
     "end_time": "2024-05-04T15:53:00.375184Z",
     "start_time": "2024-05-04T15:52:56.922285Z"
    },
    "collapsed": false
   },
   "outputs": [],
   "source": [
    "save_dictionary_from_data_frame_to_txt_most_n_times(df, \"title_text\", \"new_dictionary.txt\", 500)"
   ]
  },
  {
   "cell_type": "code",
   "execution_count": 81,
   "metadata": {
    "ExecuteTime": {
     "end_time": "2024-05-04T14:55:49.804542Z",
     "start_time": "2024-05-04T14:55:49.781320Z"
    },
    "collapsed": false
   },
   "outputs": [
    {
     "name": "stdout",
     "output_type": "stream",
     "text": [
      "['experience', 'Granbaby', 'employees', 'Stroping', 'Yaaaasssss', 'gunpowder', 'crossdressing', 'después', 'Mists', '108w', 'Alsome', 'blokes', 'defining', 'frizzing', 'patching', 'gifts', 'CANNOT', 'Carols', 'Flashlights', 'microfibers', 'BANDS', 'explore', 'festival', 'sassoon', 'Estheticians', 'scraps', 'Some', 'Sufficient', 'professionalism', 'sparingly', 'confidently', 'Wearing', 'eliminate', 'Ema', 'OFFICE', 'seconds', 'uneasy', 'WENT', '520', 'Theyre', 'oloring', 'BOX', 'bug', 'B01FE1VHPQ', '54d75c107f2c222477f776b2c0f01245', 'many', 'copay', 'fog', 'sis', 'quot']\n"
     ]
    }
   ],
   "source": [
    "import random\n",
    "\n",
    "def get_random_words(filename, n):\n",
    "    with open(filename, 'r') as f:\n",
    "        words = f.read().splitlines()\n",
    "    return random.sample(words, n)\n",
    "\n",
    "# Usage\n",
    "reduced_dict = get_random_words('dictionary.txt', 10000)\n",
    "print(reduced_dict[:50])"
   ]
  },
  {
   "cell_type": "code",
   "execution_count": 104,
   "metadata": {
    "ExecuteTime": {
     "end_time": "2024-05-04T15:55:49.754182Z",
     "start_time": "2024-05-04T15:55:49.750328Z"
    },
    "collapsed": false
   },
   "outputs": [],
   "source": [
    "def get_words(filename):\n",
    "    with open(filename, 'r') as f:\n",
    "        words = f.read().splitlines()\n",
    "    return words"
   ]
  },
  {
   "cell_type": "code",
   "execution_count": 105,
   "metadata": {
    "ExecuteTime": {
     "end_time": "2024-05-04T15:55:51.794951Z",
     "start_time": "2024-05-04T15:55:51.787931Z"
    },
    "collapsed": false
   },
   "outputs": [],
   "source": [
    "final_dictionary = get_words(\"new_dictionary.txt\")"
   ]
  },
  {
   "cell_type": "code",
   "execution_count": 107,
   "metadata": {
    "ExecuteTime": {
     "end_time": "2024-05-04T16:01:52.058235Z",
     "start_time": "2024-05-04T16:01:41.415116Z"
    },
    "collapsed": false
   },
   "outputs": [
    {
     "name": "stderr",
     "output_type": "stream",
     "text": [
      "/home/saeed/Desktop/py_env/GA-NLP_rnn/.venv/lib/python3.12/site-packages/deap/creator.py:185: RuntimeWarning: A class named 'FitnessMax' has already been created and it will be overwritten. Consider deleting previous creation of that class or rename it.\n",
      "  warnings.warn(\"A class named '{0}' has already been created and it \"\n",
      "/home/saeed/Desktop/py_env/GA-NLP_rnn/.venv/lib/python3.12/site-packages/deap/creator.py:185: RuntimeWarning: A class named 'Individual' has already been created and it will be overwritten. Consider deleting previous creation of that class or rename it.\n",
      "  warnings.warn(\"A class named '{0}' has already been created and it \"\n"
     ]
    },
    {
     "name": "stdout",
     "output_type": "stream",
     "text": [
      "gen\tnevals\tavg    \tmin\tmax\n",
      "0  \t300   \t4.23333\t1  \t5  \n",
      "1  \t184   \t4.81   \t1  \t5  \n",
      "2  \t187   \t4.88   \t1  \t5  \n",
      "3  \t177   \t4.90333\t1  \t5  \n",
      "4  \t166   \t4.93   \t1  \t5  \n",
      "5  \t176   \t4.92333\t1  \t5  \n",
      "6  \t178   \t4.91667\t1  \t5  \n",
      "7  \t184   \t4.91333\t1  \t5  \n",
      "8  \t174   \t4.91333\t1  \t5  \n",
      "9  \t153   \t4.96667\t1  \t5  \n",
      "10 \t184   \t4.93   \t1  \t5  \n",
      "11 \t185   \t4.93333\t1  \t5  \n",
      "12 \t163   \t4.92   \t1  \t5  \n",
      "13 \t167   \t4.96667\t3  \t5  \n",
      "14 \t176   \t4.92667\t1  \t5  \n",
      "15 \t178   \t4.91667\t1  \t5  \n",
      "16 \t161   \t4.93667\t1  \t5  \n",
      "17 \t172   \t4.96   \t1  \t5  \n",
      "18 \t162   \t4.93   \t1  \t5  \n",
      "19 \t180   \t4.96333\t1  \t5  \n",
      "20 \t170   \t4.97667\t2  \t5  \n",
      "21 \t185   \t4.95667\t1  \t5  \n",
      "22 \t185   \t4.99   \t3  \t5  \n",
      "23 \t187   \t4.95667\t1  \t5  \n",
      "24 \t162   \t4.97   \t1  \t5  \n",
      "25 \t170   \t4.97333\t1  \t5  \n",
      "26 \t192   \t4.92667\t1  \t5  \n",
      "27 \t172   \t4.93   \t1  \t5  \n",
      "28 \t152   \t4.94667\t1  \t5  \n",
      "29 \t192   \t4.98   \t2  \t5  \n",
      "30 \t166   \t4.99   \t2  \t5  \n",
      "31 \t169   \t4.96667\t1  \t5  \n",
      "32 \t173   \t4.97667\t1  \t5  \n",
      "33 \t167   \t4.98667\t2  \t5  \n",
      "34 \t181   \t4.95   \t1  \t5  \n",
      "35 \t169   \t4.97   \t1  \t5  \n",
      "36 \t164   \t4.98333\t1  \t5  \n",
      "37 \t194   \t4.98667\t1  \t5  \n",
      "38 \t155   \t4.98   \t1  \t5  \n",
      "39 \t179   \t4.95333\t1  \t5  \n",
      "40 \t177   \t4.98333\t1  \t5  \n",
      "Too wonderful how Love cap from light try purchase wear case One Really Very straight mascara black Four just face\n"
     ]
    },
    {
     "data": {
      "text/plain": [
       "array([5.])"
      ]
     },
     "execution_count": 107,
     "metadata": {},
     "output_type": "execute_result"
    }
   ],
   "source": [
    "import numpy\n",
    "import random\n",
    "from deap import base, creator, tools, algorithms\n",
    "\n",
    "# Create the fitness class, which will be the base of the individual\n",
    "creator.create(\"FitnessMax\", base.Fitness, weights=(1.0,))\n",
    "\n",
    "# Create the individual class based on list with fitness attribute\n",
    "creator.create(\"Individual\", list, fitness=creator.FitnessMax)\n",
    "# Define the fitness function\n",
    "def fitness(individual):\n",
    "    sentence = \" \".join(individual)\n",
    "    score = text_clf.predict([sentence])[0]\n",
    "    return score,\n",
    "\n",
    "# Define the mutation function\n",
    "def mutate(individual):\n",
    "    index = random.randrange(len(individual))\n",
    "    individual[index] = random.choice(reduced_dict)\n",
    "    return individual,\n",
    "\n",
    "# Create the toolbox\n",
    "toolbox = base.Toolbox()\n",
    "toolbox.register(\"individual\", tools.initRepeat, creator.Individual, lambda: random.choice(final_dictionary), n=20)\n",
    "toolbox.register(\"population\", tools.initRepeat, list, toolbox.individual)\n",
    "toolbox.register(\"evaluate\", fitness)\n",
    "toolbox.register(\"mate\", tools.cxTwoPoint)\n",
    "toolbox.register(\"mutate\", mutate)\n",
    "toolbox.register(\"select\", tools.selTournament, tournsize=3)\n",
    "\n",
    "# Initialize a population\n",
    "pop = toolbox.population(n=300)\n",
    "\n",
    "# Define the hall of fame\n",
    "hof = tools.HallOfFame(1)\n",
    "\n",
    "# Perform the genetic algorithm\n",
    "stats = tools.Statistics(lambda ind: ind.fitness.values)\n",
    "stats.register(\"avg\", numpy.mean)\n",
    "stats.register(\"min\", numpy.min)\n",
    "stats.register(\"max\", numpy.max)\n",
    "\n",
    "pop, log = algorithms.eaSimple(pop, toolbox, cxpb=0.5, mutpb=0.2, ngen=40, stats=stats, halloffame=hof, verbose=True)\n",
    "sentence = \" \".join(hof[0])\n",
    "# Print the best sentence found\n",
    "print(sentence)\n",
    "text_clf.predict([sentence])"
   ]
  },
  {
   "cell_type": "code",
   "execution_count": 86,
   "metadata": {
    "ExecuteTime": {
     "end_time": "2024-05-04T15:09:05.639521Z",
     "start_time": "2024-05-04T15:09:05.629823Z"
    },
    "collapsed": false
   },
   "outputs": [
    {
     "data": {
      "text/plain": [
       "array([5.])"
      ]
     },
     "execution_count": 86,
     "metadata": {},
     "output_type": "execute_result"
    }
   ],
   "source": [
    "text_clf.predict([sentence])\n"
   ]
  }
 ],
 "metadata": {
  "colab": {
   "provenance": []
  },
  "kernelspec": {
   "display_name": "Python 3 (ipykernel)",
   "language": "python",
   "name": "python3"
  },
  "language_info": {
   "codemirror_mode": {
    "name": "ipython",
    "version": 3
   },
   "file_extension": ".py",
   "mimetype": "text/x-python",
   "name": "python",
   "nbconvert_exporter": "python",
   "pygments_lexer": "ipython3",
   "version": "3.11.8"
  }
 },
 "nbformat": 4,
 "nbformat_minor": 0
}
