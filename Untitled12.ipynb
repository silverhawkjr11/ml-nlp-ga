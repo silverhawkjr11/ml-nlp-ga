{
 "cells": [
  {
   "cell_type": "markdown",
   "metadata": {
    "id": "wLti3XKUaazX"
   },
   "source": [
    "### download the dataset"
   ]
  },
  {
   "cell_type": "code",
   "execution_count": 1,
   "metadata": {
    "ExecuteTime": {
     "end_time": "2024-05-04T10:33:38.656840Z",
     "start_time": "2024-05-04T10:33:34.372369Z"
    },
    "colab": {
     "base_uri": "https://localhost:8080/"
    },
    "id": "ZtIlRoj3cECs",
    "outputId": "320caa24-409f-4917-9d2a-36cd725ba039"
   },
   "outputs": [
    {
     "name": "stdout",
     "output_type": "stream",
     "text": [
      "Requirement already satisfied: requests in /home/saeed/Desktop/py_env/GA-NLP_rnn/.venv/lib/python3.12/site-packages (2.31.0)\r\n",
      "Requirement already satisfied: charset-normalizer<4,>=2 in /home/saeed/Desktop/py_env/GA-NLP_rnn/.venv/lib/python3.12/site-packages (from requests) (3.3.2)\r\n",
      "Requirement already satisfied: idna<4,>=2.5 in /home/saeed/Desktop/py_env/GA-NLP_rnn/.venv/lib/python3.12/site-packages (from requests) (3.7)\r\n",
      "Requirement already satisfied: urllib3<3,>=1.21.1 in /home/saeed/Desktop/py_env/GA-NLP_rnn/.venv/lib/python3.12/site-packages (from requests) (2.2.1)\r\n",
      "Requirement already satisfied: certifi>=2017.4.17 in /home/saeed/Desktop/py_env/GA-NLP_rnn/.venv/lib/python3.12/site-packages (from requests) (2024.2.2)\r\n",
      "\r\n",
      "\u001b[1m[\u001b[0m\u001b[34;49mnotice\u001b[0m\u001b[1;39;49m]\u001b[0m\u001b[39;49m A new release of pip is available: \u001b[0m\u001b[31;49m23.2.1\u001b[0m\u001b[39;49m -> \u001b[0m\u001b[32;49m24.0\u001b[0m\r\n",
      "\u001b[1m[\u001b[0m\u001b[34;49mnotice\u001b[0m\u001b[1;39;49m]\u001b[0m\u001b[39;49m To update, run: \u001b[0m\u001b[32;49mpip install --upgrade pip\u001b[0m\r\n",
      "Requirement already satisfied: certifi in /home/saeed/Desktop/py_env/GA-NLP_rnn/.venv/lib/python3.12/site-packages (2024.2.2)\r\n",
      "\r\n",
      "\u001b[1m[\u001b[0m\u001b[34;49mnotice\u001b[0m\u001b[1;39;49m]\u001b[0m\u001b[39;49m A new release of pip is available: \u001b[0m\u001b[31;49m23.2.1\u001b[0m\u001b[39;49m -> \u001b[0m\u001b[32;49m24.0\u001b[0m\r\n",
      "\u001b[1m[\u001b[0m\u001b[34;49mnotice\u001b[0m\u001b[1;39;49m]\u001b[0m\u001b[39;49m To update, run: \u001b[0m\u001b[32;49mpip install --upgrade pip\u001b[0m\r\n"
     ]
    }
   ],
   "source": [
    "!pip install requests\n",
    "!pip install certifi\n"
   ]
  },
  {
   "cell_type": "code",
   "execution_count": 2,
   "metadata": {
    "ExecuteTime": {
     "end_time": "2024-05-04T10:33:50.711115Z",
     "start_time": "2024-05-04T10:33:43.614536Z"
    },
    "collapsed": false
   },
   "outputs": [
    {
     "name": "stdout",
     "output_type": "stream",
     "text": [
      "Requirement already satisfied: pip in /home/saeed/Desktop/py_env/GA-NLP_rnn/.venv/lib/python3.12/site-packages (23.2.1)\r\n",
      "Collecting pip\r\n",
      "  Obtaining dependency information for pip from https://files.pythonhosted.org/packages/8a/6a/19e9fe04fca059ccf770861c7d5721ab4c2aebc539889e97c7977528a53b/pip-24.0-py3-none-any.whl.metadata\r\n",
      "  Using cached pip-24.0-py3-none-any.whl.metadata (3.6 kB)\r\n",
      "Using cached pip-24.0-py3-none-any.whl (2.1 MB)\r\n",
      "Installing collected packages: pip\r\n",
      "  Attempting uninstall: pip\r\n",
      "    Found existing installation: pip 23.2.1\r\n",
      "    Uninstalling pip-23.2.1:\r\n",
      "      Successfully uninstalled pip-23.2.1\r\n",
      "Successfully installed pip-24.0\r\n"
     ]
    }
   ],
   "source": [
    "!pip install --upgrade pip"
   ]
  },
  {
   "cell_type": "code",
   "execution_count": 3,
   "metadata": {
    "ExecuteTime": {
     "end_time": "2024-05-04T10:34:14.645084Z",
     "start_time": "2024-05-04T10:34:14.554284Z"
    },
    "id": "P0eSjrmIaZWQ"
   },
   "outputs": [],
   "source": [
    "import requests\n",
    "\n",
    "\n",
    "def download_ds(url, local_filename):\n",
    "    try:\n",
    "        response = requests.get(url, stream=True, verify=False)\n",
    "        if response.status_code == 200:\n",
    "            with open(local_filename, 'wb') as file:\n",
    "                for chunk in response.iter_content(chunk_size=1024):\n",
    "                    if chunk:\n",
    "                        file.write(chunk)\n",
    "            print(f\"Downloaded file as {local_filename}\")\n",
    "        else:\n",
    "            print(f\"Failed to download file. Status code: {response.status_code}\")\n",
    "    except Exception as e:\n",
    "        print(f\"An error occurred: {e}\")"
   ]
  },
  {
   "cell_type": "code",
   "execution_count": 4,
   "metadata": {
    "ExecuteTime": {
     "end_time": "2024-05-04T10:36:40.976538Z",
     "start_time": "2024-05-04T10:34:17.500691Z"
    },
    "colab": {
     "base_uri": "https://localhost:8080/"
    },
    "id": "Ioedxwrdaf2f",
    "outputId": "cd42bc7a-2fe9-4c9f-da16-dc99ba878bb7"
   },
   "outputs": [
    {
     "name": "stderr",
     "output_type": "stream",
     "text": [
      "/home/saeed/Desktop/py_env/GA-NLP_rnn/.venv/lib/python3.12/site-packages/urllib3/connectionpool.py:1103: InsecureRequestWarning: Unverified HTTPS request is being made to host 'datarepo.eng.ucsd.edu'. Adding certificate verification is strongly advised. See: https://urllib3.readthedocs.io/en/latest/advanced-usage.html#tls-warnings\n",
      "  warnings.warn(\n"
     ]
    },
    {
     "name": "stdout",
     "output_type": "stream",
     "text": [
      "Downloaded file as All_Beauty.jsonl.gz\n"
     ]
    }
   ],
   "source": [
    "download_ds(\"https://datarepo.eng.ucsd.edu/mcauley_group/data/amazon_2023/raw/review_categories/All_Beauty.jsonl.gz\",\n",
    "            \"All_Beauty.jsonl.gz\")"
   ]
  },
  {
   "cell_type": "code",
   "execution_count": 5,
   "metadata": {
    "ExecuteTime": {
     "end_time": "2024-05-04T10:37:15.881098Z",
     "start_time": "2024-05-04T10:37:12.511858Z"
    },
    "id": "M9FZLqcfcY_m"
   },
   "outputs": [],
   "source": [
    "# prompt: unzip All_Beauty.jsonl.gz\n",
    "\n",
    "!gunzip All_Beauty.jsonl.gz\n"
   ]
  },
  {
   "cell_type": "code",
   "execution_count": 1,
   "metadata": {
    "ExecuteTime": {
     "end_time": "2024-05-04T10:37:36.476046Z",
     "start_time": "2024-05-04T10:37:18.161204Z"
    },
    "collapsed": false
   },
   "outputs": [
    {
     "name": "stdout",
     "output_type": "stream",
     "text": [
      "Collecting pandas\n",
      "  Downloading pandas-2.2.2-cp311-cp311-manylinux_2_17_x86_64.manylinux2014_x86_64.whl.metadata (19 kB)\n",
      "Collecting numpy>=1.23.2 (from pandas)\n",
      "  Downloading numpy-1.26.4-cp311-cp311-manylinux_2_17_x86_64.manylinux2014_x86_64.whl.metadata (61 kB)\n",
      "\u001b[2K     \u001b[90m━━━━━━━━━━━━━━━━━━━━━━━━━━━━━━━━━━━━━━━━\u001b[0m \u001b[32m61.0/61.0 kB\u001b[0m \u001b[31m1.2 MB/s\u001b[0m eta \u001b[36m0:00:00\u001b[0ma \u001b[36m0:00:01\u001b[0m\n",
      "\u001b[?25hRequirement already satisfied: python-dateutil>=2.8.2 in ./.venv/lib/python3.11/site-packages (from pandas) (2.9.0.post0)\n",
      "Collecting pytz>=2020.1 (from pandas)\n",
      "  Downloading pytz-2024.1-py2.py3-none-any.whl.metadata (22 kB)\n",
      "Collecting tzdata>=2022.7 (from pandas)\n",
      "  Downloading tzdata-2024.1-py2.py3-none-any.whl.metadata (1.4 kB)\n",
      "Requirement already satisfied: six>=1.5 in ./.venv/lib/python3.11/site-packages (from python-dateutil>=2.8.2->pandas) (1.16.0)\n",
      "Downloading pandas-2.2.2-cp311-cp311-manylinux_2_17_x86_64.manylinux2014_x86_64.whl (13.0 MB)\n",
      "\u001b[2K   \u001b[90m━━━━━━━━━━━━━━━━━━━━━━━━━━━━━━━━━━━━━━━━\u001b[0m \u001b[32m13.0/13.0 MB\u001b[0m \u001b[31m29.7 MB/s\u001b[0m eta \u001b[36m0:00:00\u001b[0m00:01\u001b[0m00:01\u001b[0m\n",
      "\u001b[?25hDownloading numpy-1.26.4-cp311-cp311-manylinux_2_17_x86_64.manylinux2014_x86_64.whl (18.3 MB)\n",
      "\u001b[2K   \u001b[90m━━━━━━━━━━━━━━━━━━━━━━━━━━━━━━━━━━━━━━━━\u001b[0m \u001b[32m18.3/18.3 MB\u001b[0m \u001b[31m32.0 MB/s\u001b[0m eta \u001b[36m0:00:00\u001b[0m00:01\u001b[0m00:01\u001b[0m\n",
      "\u001b[?25hDownloading pytz-2024.1-py2.py3-none-any.whl (505 kB)\n",
      "\u001b[2K   \u001b[90m━━━━━━━━━━━━━━━━━━━━━━━━━━━━━━━━━━━━━━━━\u001b[0m \u001b[32m505.5/505.5 kB\u001b[0m \u001b[31m22.0 MB/s\u001b[0m eta \u001b[36m0:00:00\u001b[0m\n",
      "\u001b[?25hDownloading tzdata-2024.1-py2.py3-none-any.whl (345 kB)\n",
      "\u001b[2K   \u001b[90m━━━━━━━━━━━━━━━━━━━━━━━━━━━━━━━━━━━━━━━━\u001b[0m \u001b[32m345.4/345.4 kB\u001b[0m \u001b[31m19.9 MB/s\u001b[0m eta \u001b[36m0:00:00\u001b[0m\n",
      "\u001b[?25hInstalling collected packages: pytz, tzdata, numpy, pandas\n",
      "Successfully installed numpy-1.26.4 pandas-2.2.2 pytz-2024.1 tzdata-2024.1\n"
     ]
    }
   ],
   "source": [
    "!pip install pandas"
   ]
  },
  {
   "cell_type": "code",
   "execution_count": null,
   "metadata": {
    "ExecuteTime": {
     "end_time": "2024-05-02T17:48:38.145580Z",
     "start_time": "2024-05-02T17:48:38.089949Z"
    },
    "collapsed": false
   },
   "outputs": [],
   "source": [
    "import json\n",
    "\n",
    "\n",
    "def filter_jsonl_file(input_file, output_file, max_lines=5000):\n",
    "    with open(input_file, 'r') as f_in, open(output_file, 'w') as f_out:\n",
    "        for i, line in enumerate(f_in):\n",
    "            if i >= max_lines:\n",
    "                break\n",
    "            try:\n",
    "                data = json.loads(line)\n",
    "                if all(key in data for key in ('text', 'rating', 'title')):\n",
    "                    print(line)\n",
    "                    f_out.write(line)\n",
    "            except json.JSONDecodeError:\n",
    "                continue\n",
    "\n",
    "\n",
    "# Usage\n",
    "filter_jsonl_file('All_Beauty.jsonl', 'Filtered_All_Beauty.jsonl')"
   ]
  },
  {
   "cell_type": "code",
   "execution_count": 2,
   "metadata": {
    "ExecuteTime": {
     "end_time": "2024-05-04T10:57:06.281432Z",
     "start_time": "2024-05-04T10:57:05.535285Z"
    },
    "id": "SkTu62-PeJVR"
   },
   "outputs": [],
   "source": [
    "import pandas as pd\n",
    "import json\n",
    "\n",
    "\n",
    "def json_to_dataframe(json_data):\n",
    "    data_list = []\n",
    "    for line in json_data.split(\"\\n\"):\n",
    "        if line.strip() != \"\":\n",
    "            try:\n",
    "                data = json.loads(line)\n",
    "                data_list.append(\n",
    "                    {\"rating\": data[\"rating\"], \"title\": data[\"title\"], \"text\": data[\"text\"]}\n",
    "                )\n",
    "            except json.JSONDecodeError as e:\n",
    "                print(f\"An error occurred: {e}\")\n",
    "                print(f\"An error occurred: {e.__traceback__}\")\n",
    "    df = pd.DataFrame(data_list)\n",
    "    return df"
   ]
  },
  {
   "cell_type": "code",
   "execution_count": 3,
   "metadata": {
    "ExecuteTime": {
     "end_time": "2024-05-04T11:01:30.286090Z",
     "start_time": "2024-05-04T11:01:30.278694Z"
    },
    "collapsed": false
   },
   "outputs": [],
   "source": [
    "# filter_jsonl_file('All_Beauty.jsonl', 'Filtered_All_Beauty.jsonl')\n",
    "import pandas as pd\n",
    "import json\n",
    "\n",
    "\n",
    "def json_to_dataframe_rating_title(json_data):\n",
    "    data_list = []\n",
    "    for line in json_data.split(\"\\n\"):\n",
    "        if line.strip() != \"\":\n",
    "            try:\n",
    "                data = json.loads(line)\n",
    "                data_list.append(\n",
    "                    {\"rating\": data[\"rating\"], \"title\": data[\"title\"]}\n",
    "                )\n",
    "            except json.JSONDecodeError as e:\n",
    "                print(f\"An error occurred: {e}\")\n",
    "                print(f\"An error occurred: {e.__traceback__}\")\n",
    "    df = pd.DataFrame(data_list)\n",
    "    return df"
   ]
  },
  {
   "cell_type": "code",
   "execution_count": 114,
   "metadata": {
    "ExecuteTime": {
     "end_time": "2024-05-04T19:18:13.715870Z",
     "start_time": "2024-05-04T19:18:02.841325Z"
    },
    "id": "IvBRiXTceP7T"
   },
   "outputs": [],
   "source": [
    "json_data = open(\"All_Beauty.jsonl\", \"r\").read()\n",
    "df = json_to_dataframe(json_data)"
   ]
  },
  {
   "cell_type": "code",
   "execution_count": 4,
   "metadata": {
    "ExecuteTime": {
     "end_time": "2024-05-04T11:01:56.758541Z",
     "start_time": "2024-05-04T11:01:48.315634Z"
    },
    "collapsed": false
   },
   "outputs": [],
   "source": [
    "json_data = open(\"All_Beauty.jsonl\", \"r\").read()\n",
    "df = json_to_dataframe_rating_title(json_data)"
   ]
  },
  {
   "cell_type": "code",
   "execution_count": 5,
   "metadata": {
    "ExecuteTime": {
     "end_time": "2024-05-04T19:18:44.445334Z",
     "start_time": "2024-05-04T19:18:44.437972Z"
    },
    "colab": {
     "base_uri": "https://localhost:8080/"
    },
    "id": "gkz8bBnReUya",
    "outputId": "59f50e48-9851-4477-b728-1a7ca2214f6e"
   },
   "outputs": [
    {
     "name": "stdout",
     "output_type": "stream",
     "text": [
      "   rating                                      title\n",
      "0     5.0  Such a lovely scent but not overpowering.\n",
      "1     4.0     Works great but smells a little weird.\n",
      "2     5.0                                       Yes!\n",
      "3     1.0                          Synthetic feeling\n",
      "4     5.0                                         A+\n"
     ]
    }
   ],
   "source": [
    "print(df.head())"
   ]
  },
  {
   "cell_type": "code",
   "execution_count": 6,
   "metadata": {
    "ExecuteTime": {
     "end_time": "2024-05-02T17:44:15.911766Z",
     "start_time": "2024-05-02T17:43:33.027194Z"
    },
    "collapsed": false
   },
   "outputs": [
    {
     "name": "stdout",
     "output_type": "stream",
     "text": [
      "Collecting scikit-learn\n",
      "  Downloading scikit_learn-1.4.2-cp311-cp311-manylinux_2_17_x86_64.manylinux2014_x86_64.whl.metadata (11 kB)\n",
      "Requirement already satisfied: numpy>=1.19.5 in ./.venv/lib/python3.11/site-packages (from scikit-learn) (1.26.4)\n",
      "Collecting scipy>=1.6.0 (from scikit-learn)\n",
      "  Downloading scipy-1.13.0-cp311-cp311-manylinux_2_17_x86_64.manylinux2014_x86_64.whl.metadata (60 kB)\n",
      "\u001b[2K     \u001b[90m━━━━━━━━━━━━━━━━━━━━━━━━━━━━━━━━━━━━━━━━\u001b[0m \u001b[32m60.6/60.6 kB\u001b[0m \u001b[31m1.6 MB/s\u001b[0m eta \u001b[36m0:00:00\u001b[0m\n",
      "\u001b[?25hCollecting joblib>=1.2.0 (from scikit-learn)\n",
      "  Downloading joblib-1.4.2-py3-none-any.whl.metadata (5.4 kB)\n",
      "Collecting threadpoolctl>=2.0.0 (from scikit-learn)\n",
      "  Downloading threadpoolctl-3.5.0-py3-none-any.whl.metadata (13 kB)\n",
      "Downloading scikit_learn-1.4.2-cp311-cp311-manylinux_2_17_x86_64.manylinux2014_x86_64.whl (12.1 MB)\n",
      "\u001b[2K   \u001b[90m━━━━━━━━━━━━━━━━━━━━━━━━━━━━━━━━━━━━━━━━\u001b[0m \u001b[32m12.1/12.1 MB\u001b[0m \u001b[31m39.4 MB/s\u001b[0m eta \u001b[36m0:00:00\u001b[0m00:01\u001b[0m00:01\u001b[0m\n",
      "\u001b[?25hDownloading joblib-1.4.2-py3-none-any.whl (301 kB)\n",
      "\u001b[2K   \u001b[90m━━━━━━━━━━━━━━━━━━━━━━━━━━━━━━━━━━━━━━━━\u001b[0m \u001b[32m301.8/301.8 kB\u001b[0m \u001b[31m19.6 MB/s\u001b[0m eta \u001b[36m0:00:00\u001b[0m\n",
      "\u001b[?25hDownloading scipy-1.13.0-cp311-cp311-manylinux_2_17_x86_64.manylinux2014_x86_64.whl (38.6 MB)\n",
      "\u001b[2K   \u001b[90m━━━━━━━━━━━━━━━━━━━━━━━━━━━━━━━━━━━━━━━━\u001b[0m \u001b[32m38.6/38.6 MB\u001b[0m \u001b[31m22.5 MB/s\u001b[0m eta \u001b[36m0:00:00\u001b[0m00:01\u001b[0m00:01\u001b[0m\n",
      "\u001b[?25hDownloading threadpoolctl-3.5.0-py3-none-any.whl (18 kB)\n",
      "Installing collected packages: threadpoolctl, scipy, joblib, scikit-learn\n",
      "Successfully installed joblib-1.4.2 scikit-learn-1.4.2 scipy-1.13.0 threadpoolctl-3.5.0\n"
     ]
    }
   ],
   "source": [
    "!pip install scikit-learn"
   ]
  },
  {
   "cell_type": "code",
   "execution_count": 117,
   "metadata": {
    "ExecuteTime": {
     "end_time": "2024-05-05T14:37:15.614357Z",
     "start_time": "2024-05-05T01:54:35.868323Z"
    },
    "collapsed": false
   },
   "outputs": [
    {
     "name": "stdout",
     "output_type": "stream",
     "text": [
      "   rating                                      title  \\\n",
      "0     5.0  Such a lovely scent but not overpowering.   \n",
      "1     4.0     Works great but smells a little weird.   \n",
      "2     5.0                                       Yes!   \n",
      "3     1.0                          Synthetic feeling   \n",
      "4     5.0                                         A+   \n",
      "\n",
      "                                                text  \\\n",
      "0  This spray is really nice. It smells really go...   \n",
      "1  This product does what I need it to do, I just...   \n",
      "2                          Smells good, feels great!   \n",
      "3                                     Felt synthetic   \n",
      "4                                            Love it   \n",
      "\n",
      "                                          title_text  \n",
      "0  Such a lovely scent but not overpowering. This...  \n",
      "1  Works great but smells a little weird. This pr...  \n",
      "2                     Yes! Smells good, feels great!  \n",
      "3                   Synthetic feeling Felt synthetic  \n",
      "4                                         A+ Love it  \n",
      "Iteration 1, loss = 0.66682911\n",
      "Iteration 2, loss = 0.55866119\n",
      "Iteration 3, loss = 0.51933609\n",
      "Iteration 4, loss = 0.48108668\n",
      "Iteration 5, loss = 0.44156763\n",
      "Iteration 6, loss = 0.40177981\n",
      "Iteration 7, loss = 0.36226565\n",
      "Iteration 8, loss = 0.32537779\n",
      "Iteration 9, loss = 0.29055117\n",
      "Iteration 10, loss = 0.25945140\n",
      "Iteration 11, loss = 0.23143557\n",
      "Iteration 12, loss = 0.20720787\n"
     ]
    },
    {
     "name": "stderr",
     "output_type": "stream",
     "text": [
      "/home/saeed/Desktop/py_env/GA-NLP_rnn/.venv/lib/python3.12/site-packages/sklearn/neural_network/_multilayer_perceptron.py:698: UserWarning: Training interrupted by user.\n",
      "  warnings.warn(\"Training interrupted by user.\")\n",
      "\n",
      "KeyboardInterrupt\n",
      "\n"
     ]
    }
   ],
   "source": [
    "from sklearn.model_selection import train_test_split\n",
    "from sklearn.feature_extraction.text import TfidfVectorizer\n",
    "from sklearn.naive_bayes import MultinomialNB\n",
    "from sklearn.metrics import accuracy_score\n",
    "from sklearn.pipeline import Pipeline\n",
    "import pandas as pd\n",
    "import numpy as np\n",
    "from sklearn.neural_network import MLPClassifier\n",
    "from joblib import dump\n",
    "\n",
    "# Combine 'title' and 'text' columns\n",
    "df['title_text'] = df['title'] + \" \" + df['text']\n",
    "df = df.head(5\n",
    "+\n",
    "             00000)\n",
    "print(df.head())\n",
    "# Split the data into training and test sets\n",
    "X_train, X_test, y_train, y_test = train_test_split(df['title_text'], df['rating'], test_size=0.2, random_state=42)\n",
    "\n",
    "# Create a pipeline that first transforms the 'title_text' into feature vectors then trains the classifier\n",
    "text_clf = Pipeline([\n",
    "    ('tfidf', TfidfVectorizer()),\n",
    "    ('clf', MLPClassifier(verbose=True)),\n",
    "])\n",
    "\n",
    "# Train the classifier\n",
    "text_clf.fit(X_train, y_train)\n",
    "# save the model\n",
    "try:\n",
    "    dump(text_clf, 'model2_no_drop.joblib')\n",
    "except Exception as e:\n",
    "    print(f\"An error occurred in saving the model: {e}\")\n",
    "# Predict the test set results\n",
    "y_pred = text_clf.predict(X_test)\n",
    "\n",
    "# Calculate accuracy\n",
    "accuracy = accuracy_score(y_test, y_pred)\n",
    "\n",
    "print(f\"Model accuracy: {accuracy}\")"
   ]
  },
  {
   "cell_type": "code",
   "execution_count": 17,
   "metadata": {
    "ExecuteTime": {
     "end_time": "2024-05-04T11:25:33.268886Z",
     "start_time": "2024-05-04T11:22:08.861793Z"
    },
    "collapsed": false
   },
   "outputs": [
    {
     "name": "stdout",
     "output_type": "stream",
     "text": [
      "   rating                                      title  \\\n",
      "0     5.0  Such a lovely scent but not overpowering.   \n",
      "1     4.0     Works great but smells a little weird.   \n",
      "2     5.0                                       Yes!   \n",
      "3     1.0                          Synthetic feeling   \n",
      "4     5.0                                         A+   \n",
      "\n",
      "                                  title_text  \n",
      "0  Such a lovely scent but not overpowering.  \n",
      "1     Works great but smells a little weird.  \n",
      "2                                       Yes!  \n",
      "3                          Synthetic feeling  \n",
      "4                                         A+  \n",
      "starting training\n",
      "Iteration 1, loss = 1.51260849\n",
      "Iteration 2, loss = 1.34264334\n",
      "Iteration 3, loss = 1.17365657\n",
      "Iteration 4, loss = 1.06559702\n",
      "Iteration 5, loss = 0.98856499\n",
      "Iteration 6, loss = 0.91183326\n",
      "Iteration 7, loss = 0.83656153\n",
      "Iteration 8, loss = 0.76538230\n",
      "Iteration 9, loss = 0.69977592\n",
      "Iteration 10, loss = 0.64318032\n",
      "Iteration 11, loss = 0.59265253\n",
      "Iteration 12, loss = 0.54909705\n",
      "Iteration 13, loss = 0.51069240\n",
      "Iteration 14, loss = 0.47793447\n",
      "Iteration 15, loss = 0.44878993\n",
      "Iteration 16, loss = 0.42339306\n",
      "Iteration 17, loss = 0.40151476\n",
      "Iteration 18, loss = 0.38156758\n",
      "Iteration 19, loss = 0.36458804\n",
      "Iteration 20, loss = 0.34899913\n",
      "Iteration 21, loss = 0.33515212\n",
      "Iteration 22, loss = 0.32314900\n",
      "Iteration 23, loss = 0.31169176\n",
      "Iteration 24, loss = 0.30168850\n",
      "Iteration 25, loss = 0.29167211\n",
      "Iteration 26, loss = 0.28360360\n",
      "Iteration 27, loss = 0.27562569\n",
      "Iteration 28, loss = 0.26923168\n",
      "Iteration 29, loss = 0.26270438\n",
      "Iteration 30, loss = 0.25633997\n",
      "Iteration 31, loss = 0.25056805\n",
      "Iteration 32, loss = 0.24518386\n",
      "Iteration 33, loss = 0.24018749\n",
      "Iteration 34, loss = 0.23607643\n",
      "Iteration 35, loss = 0.23171247\n",
      "Iteration 36, loss = 0.22743589\n",
      "Iteration 37, loss = 0.22367678\n",
      "Iteration 38, loss = 0.22013229\n",
      "Iteration 39, loss = 0.21710209\n",
      "Iteration 40, loss = 0.21352883\n",
      "Iteration 41, loss = 0.20981485\n",
      "Iteration 42, loss = 0.20693294\n",
      "Iteration 43, loss = 0.20397441\n",
      "Iteration 44, loss = 0.20197788\n",
      "Iteration 45, loss = 0.19885909\n",
      "Iteration 46, loss = 0.19645028\n",
      "Iteration 47, loss = 0.19364993\n",
      "Iteration 48, loss = 0.19169269\n",
      "Iteration 49, loss = 0.19027500\n",
      "Iteration 50, loss = 0.18784077\n",
      "Iteration 51, loss = 0.18505322\n",
      "Iteration 52, loss = 0.18352194\n",
      "Iteration 53, loss = 0.18142730\n",
      "Iteration 54, loss = 0.17958368\n",
      "Iteration 55, loss = 0.17781467\n",
      "Iteration 56, loss = 0.17604055\n",
      "Iteration 57, loss = 0.17468563\n",
      "Iteration 58, loss = 0.17287104\n",
      "Iteration 59, loss = 0.17130711\n",
      "Iteration 60, loss = 0.16960655\n",
      "Iteration 61, loss = 0.16792482\n",
      "Iteration 62, loss = 0.16646174\n",
      "Iteration 63, loss = 0.16503423\n",
      "Iteration 64, loss = 0.16376413\n",
      "Iteration 65, loss = 0.16276126\n",
      "Iteration 66, loss = 0.16169079\n",
      "Iteration 67, loss = 0.16025413\n",
      "Iteration 68, loss = 0.15849175\n",
      "Iteration 69, loss = 0.15737139\n",
      "Iteration 70, loss = 0.15632348\n",
      "Iteration 71, loss = 0.15499711\n",
      "Iteration 72, loss = 0.15382837\n",
      "Iteration 73, loss = 0.15261168\n",
      "Iteration 74, loss = 0.15195515\n",
      "Iteration 75, loss = 0.15039739\n",
      "Iteration 76, loss = 0.14962070\n",
      "Iteration 77, loss = 0.14844439\n",
      "Iteration 78, loss = 0.14743121\n",
      "Iteration 79, loss = 0.14612752\n",
      "Iteration 80, loss = 0.14507199\n",
      "Iteration 81, loss = 0.14468398\n",
      "Iteration 82, loss = 0.14336395\n",
      "Iteration 83, loss = 0.14236179\n",
      "Iteration 84, loss = 0.14158566\n",
      "Iteration 85, loss = 0.14068095\n",
      "Iteration 86, loss = 0.13973143\n",
      "Iteration 87, loss = 0.13880328\n",
      "Iteration 88, loss = 0.13804825\n",
      "Iteration 89, loss = 0.13733829\n",
      "Iteration 90, loss = 0.13659076\n",
      "Iteration 91, loss = 0.13556086\n",
      "Iteration 92, loss = 0.13468707\n",
      "Iteration 93, loss = 0.13423870\n",
      "Iteration 94, loss = 0.13349382\n",
      "Iteration 95, loss = 0.13243451\n",
      "Iteration 96, loss = 0.13179478\n",
      "Iteration 97, loss = 0.13128916\n",
      "Iteration 98, loss = 0.13069292\n",
      "Iteration 99, loss = 0.12971453\n",
      "Iteration 100, loss = 0.12956951\n",
      "Iteration 101, loss = 0.12906610\n",
      "Iteration 102, loss = 0.12812199\n",
      "Iteration 103, loss = 0.12766188\n",
      "Iteration 104, loss = 0.12666403\n",
      "Iteration 105, loss = 0.12601158\n",
      "Iteration 106, loss = 0.12614381\n",
      "Iteration 107, loss = 0.12565192\n",
      "Iteration 108, loss = 0.12480675\n",
      "Iteration 109, loss = 0.12400237\n",
      "Iteration 110, loss = 0.12322495\n",
      "Iteration 111, loss = 0.12251254\n",
      "Iteration 112, loss = 0.12212665\n",
      "Iteration 113, loss = 0.12100737\n",
      "Iteration 114, loss = 0.12071299\n",
      "Iteration 115, loss = 0.12035472\n",
      "Iteration 116, loss = 0.11986149\n",
      "Iteration 117, loss = 0.11950410\n",
      "Iteration 118, loss = 0.11916751\n",
      "Iteration 119, loss = 0.11824206\n",
      "Iteration 120, loss = 0.11793400\n",
      "Iteration 121, loss = 0.11794965\n",
      "Iteration 122, loss = 0.11691636\n",
      "Iteration 123, loss = 0.11636514\n",
      "Iteration 124, loss = 0.11565719\n",
      "Iteration 125, loss = 0.11546064\n",
      "Iteration 126, loss = 0.11515415\n",
      "Iteration 127, loss = 0.11448856\n",
      "Iteration 128, loss = 0.11425328\n",
      "Iteration 129, loss = 0.11351551\n",
      "Iteration 130, loss = 0.11339283\n",
      "Iteration 131, loss = 0.11282031\n",
      "Iteration 132, loss = 0.11231252\n",
      "Iteration 133, loss = 0.11203879\n",
      "Iteration 134, loss = 0.11193042\n",
      "Iteration 135, loss = 0.11161866\n",
      "Iteration 136, loss = 0.11090286\n",
      "Iteration 137, loss = 0.11051575\n",
      "Iteration 138, loss = 0.11033409\n",
      "Iteration 139, loss = 0.11017536\n",
      "Iteration 140, loss = 0.10976753\n",
      "Iteration 141, loss = 0.10946669\n",
      "Iteration 142, loss = 0.10875429\n",
      "Iteration 143, loss = 0.10884316\n",
      "Iteration 144, loss = 0.10829805\n",
      "Iteration 145, loss = 0.10814644\n",
      "Iteration 146, loss = 0.10753192\n",
      "Iteration 147, loss = 0.10828092\n",
      "Iteration 148, loss = 0.10783692\n",
      "Iteration 149, loss = 0.10778212\n",
      "Iteration 150, loss = 0.10610555\n",
      "Iteration 151, loss = 0.10638960\n",
      "Iteration 152, loss = 0.10571051\n",
      "Iteration 153, loss = 0.10606257\n",
      "Iteration 154, loss = 0.10502318\n",
      "Iteration 155, loss = 0.10498518\n",
      "Iteration 156, loss = 0.10523537\n",
      "Iteration 157, loss = 0.10436513\n",
      "Iteration 158, loss = 0.10559918\n",
      "Iteration 159, loss = 0.10412952\n",
      "Iteration 160, loss = 0.10354959\n",
      "Iteration 161, loss = 0.10364429\n",
      "Iteration 162, loss = 0.10334133\n",
      "Iteration 163, loss = 0.10281190\n",
      "Iteration 164, loss = 0.10295243\n",
      "Iteration 165, loss = 0.10252378\n",
      "Iteration 166, loss = 0.10250458\n",
      "Iteration 167, loss = 0.10224350\n",
      "Iteration 168, loss = 0.10153480\n",
      "Iteration 169, loss = 0.10134524\n",
      "Iteration 170, loss = 0.10068091\n",
      "Iteration 171, loss = 0.10100340\n",
      "Iteration 172, loss = 0.10052837\n",
      "Iteration 173, loss = 0.10039452\n",
      "Iteration 174, loss = 0.10003791\n",
      "Iteration 175, loss = 0.09995483\n",
      "Iteration 176, loss = 0.10012909\n",
      "Iteration 177, loss = 0.10015560\n",
      "Iteration 178, loss = 0.09960364\n",
      "Iteration 179, loss = 0.09909979\n",
      "Iteration 180, loss = 0.09907497\n",
      "Iteration 181, loss = 0.09824695\n",
      "Iteration 182, loss = 0.09836895\n",
      "Iteration 183, loss = 0.09825681\n",
      "Iteration 184, loss = 0.09786677\n",
      "Iteration 185, loss = 0.09798556\n",
      "Iteration 186, loss = 0.09794375\n",
      "Iteration 187, loss = 0.09785736\n",
      "Iteration 188, loss = 0.09719855\n",
      "Iteration 189, loss = 0.09743299\n",
      "Iteration 190, loss = 0.09677871\n",
      "Iteration 191, loss = 0.09660252\n",
      "Iteration 192, loss = 0.09632159\n",
      "Iteration 193, loss = 0.09654139\n",
      "Iteration 194, loss = 0.09620357\n",
      "Iteration 195, loss = 0.09584110\n",
      "Iteration 196, loss = 0.09624549\n",
      "Iteration 197, loss = 0.09574524\n",
      "Iteration 198, loss = 0.09528079\n",
      "Iteration 199, loss = 0.09552862\n",
      "Iteration 200, loss = 0.09539489\n"
     ]
    },
    {
     "name": "stderr",
     "output_type": "stream",
     "text": [
      "/home/saeed/Desktop/py_env/GA-NLP_rnn/.venv/lib/python3.12/site-packages/sklearn/neural_network/_multilayer_perceptron.py:691: ConvergenceWarning: Stochastic Optimizer: Maximum iterations (200) reached and the optimization hasn't converged yet.\n",
      "  warnings.warn(\n"
     ]
    },
    {
     "name": "stdout",
     "output_type": "stream",
     "text": [
      "Iteration 1, loss = 1.54199030\n",
      "Iteration 2, loss = 1.38495516\n",
      "Iteration 3, loss = 1.21677806\n",
      "Iteration 4, loss = 1.09109428\n",
      "Iteration 5, loss = 1.00749286\n",
      "Iteration 6, loss = 0.92941365\n",
      "Iteration 7, loss = 0.84944860\n",
      "Iteration 8, loss = 0.77292999\n",
      "Iteration 9, loss = 0.70331287\n",
      "Iteration 10, loss = 0.64210210\n",
      "Iteration 11, loss = 0.58988361\n",
      "Iteration 12, loss = 0.54435029\n",
      "Iteration 13, loss = 0.50591033\n",
      "Iteration 14, loss = 0.47173485\n",
      "Iteration 15, loss = 0.44269142\n",
      "Iteration 16, loss = 0.41740812\n",
      "Iteration 17, loss = 0.39553398\n",
      "Iteration 18, loss = 0.37551965\n",
      "Iteration 19, loss = 0.35849513\n",
      "Iteration 20, loss = 0.34318665\n",
      "Iteration 21, loss = 0.32919943\n",
      "Iteration 22, loss = 0.31715565\n",
      "Iteration 23, loss = 0.30606434\n",
      "Iteration 24, loss = 0.29564915\n",
      "Iteration 25, loss = 0.28647316\n",
      "Iteration 26, loss = 0.27808079\n",
      "Iteration 27, loss = 0.27050760\n",
      "Iteration 28, loss = 0.26362561\n",
      "Iteration 29, loss = 0.25637741\n",
      "Iteration 30, loss = 0.25061569\n",
      "Iteration 31, loss = 0.24516923\n",
      "Iteration 32, loss = 0.23980871\n",
      "Iteration 33, loss = 0.23491513\n",
      "Iteration 34, loss = 0.23046189\n",
      "Iteration 35, loss = 0.22631691\n",
      "Iteration 36, loss = 0.22155375\n",
      "Iteration 37, loss = 0.21757358\n",
      "Iteration 38, loss = 0.21377302\n",
      "Iteration 39, loss = 0.21035247\n",
      "Iteration 40, loss = 0.20719511\n",
      "Iteration 41, loss = 0.20400933\n",
      "Iteration 42, loss = 0.20083526\n",
      "Iteration 43, loss = 0.19818864\n",
      "Iteration 44, loss = 0.19596678\n",
      "Iteration 45, loss = 0.19319622\n",
      "Iteration 46, loss = 0.19016157\n",
      "Iteration 47, loss = 0.18775792\n",
      "Iteration 48, loss = 0.18525705\n",
      "Iteration 49, loss = 0.18368161\n",
      "Iteration 50, loss = 0.18196118\n",
      "Iteration 51, loss = 0.17933428\n",
      "Iteration 52, loss = 0.17724915\n",
      "Iteration 53, loss = 0.17510618\n",
      "Iteration 54, loss = 0.17368585\n",
      "Iteration 55, loss = 0.17228029\n",
      "Iteration 56, loss = 0.16973888\n",
      "Iteration 57, loss = 0.16809616\n",
      "Iteration 58, loss = 0.16641509\n",
      "Iteration 59, loss = 0.16443917\n",
      "Iteration 60, loss = 0.16300675\n",
      "Iteration 61, loss = 0.16124789\n",
      "Iteration 62, loss = 0.15995861\n",
      "Iteration 63, loss = 0.15859329\n",
      "Iteration 64, loss = 0.15667176\n",
      "Iteration 65, loss = 0.15573380\n",
      "Iteration 66, loss = 0.15401162\n",
      "Iteration 67, loss = 0.15308937\n",
      "Iteration 68, loss = 0.15169865\n",
      "Iteration 69, loss = 0.15014813\n",
      "Iteration 70, loss = 0.14912627\n",
      "Iteration 71, loss = 0.14785723\n",
      "Iteration 72, loss = 0.14755118\n",
      "Iteration 73, loss = 0.14637459\n",
      "Iteration 74, loss = 0.14470971\n",
      "Iteration 75, loss = 0.14360163\n",
      "Iteration 76, loss = 0.14296749\n",
      "Iteration 77, loss = 0.14150828\n",
      "Iteration 78, loss = 0.14051003\n",
      "Iteration 79, loss = 0.13942616\n",
      "Iteration 80, loss = 0.13837187\n",
      "Iteration 81, loss = 0.13781333\n",
      "Iteration 82, loss = 0.13665615\n",
      "Iteration 83, loss = 0.13577484\n",
      "Iteration 84, loss = 0.13499763\n",
      "Iteration 85, loss = 0.13435672\n",
      "Iteration 86, loss = 0.13351426\n",
      "Iteration 87, loss = 0.13281187\n",
      "Iteration 88, loss = 0.13149118\n",
      "Iteration 89, loss = 0.13131963\n",
      "Iteration 90, loss = 0.13039251\n",
      "Iteration 91, loss = 0.12951218\n",
      "Iteration 92, loss = 0.12951253\n",
      "Iteration 93, loss = 0.12802212\n",
      "Iteration 94, loss = 0.12748055\n",
      "Iteration 95, loss = 0.12653427\n",
      "Iteration 96, loss = 0.12599147\n",
      "Iteration 97, loss = 0.12528241\n",
      "Iteration 98, loss = 0.12507111\n",
      "Iteration 99, loss = 0.12406360\n",
      "Iteration 100, loss = 0.12298922\n",
      "Iteration 101, loss = 0.12264093\n",
      "Iteration 102, loss = 0.12209993\n",
      "Iteration 103, loss = 0.12188377\n",
      "Iteration 104, loss = 0.12112137\n",
      "Iteration 105, loss = 0.12064523\n",
      "Iteration 106, loss = 0.11961370\n",
      "Iteration 107, loss = 0.12006947\n",
      "Iteration 108, loss = 0.11939721\n",
      "Iteration 109, loss = 0.11814149\n",
      "Iteration 110, loss = 0.11860291\n",
      "Iteration 111, loss = 0.11738002\n",
      "Iteration 112, loss = 0.11705992\n",
      "Iteration 113, loss = 0.11635300\n",
      "Iteration 114, loss = 0.11586142\n",
      "Iteration 115, loss = 0.11581932\n",
      "Iteration 116, loss = 0.11492580\n",
      "Iteration 117, loss = 0.11464310\n",
      "Iteration 118, loss = 0.11495704\n",
      "Iteration 119, loss = 0.11433242\n",
      "Iteration 120, loss = 0.11469093\n",
      "Iteration 121, loss = 0.11370318\n",
      "Iteration 122, loss = 0.11224044\n",
      "Iteration 123, loss = 0.11222016\n",
      "Iteration 124, loss = 0.11157151\n",
      "Iteration 125, loss = 0.11168559\n",
      "Iteration 126, loss = 0.11075391\n",
      "Iteration 127, loss = 0.11022438\n",
      "Iteration 128, loss = 0.11005576\n",
      "Iteration 129, loss = 0.10982688\n",
      "Iteration 130, loss = 0.10962253\n",
      "Iteration 131, loss = 0.10915228\n",
      "Iteration 132, loss = 0.10855537\n",
      "Iteration 133, loss = 0.10795596\n",
      "Iteration 134, loss = 0.10771617\n",
      "Iteration 135, loss = 0.10752862\n",
      "Iteration 136, loss = 0.10749488\n",
      "Iteration 137, loss = 0.10755276\n",
      "Iteration 138, loss = 0.10706604\n",
      "Iteration 139, loss = 0.10610274\n",
      "Iteration 140, loss = 0.10596233\n",
      "Iteration 141, loss = 0.10567202\n",
      "Iteration 142, loss = 0.10586232\n",
      "Iteration 143, loss = 0.10508282\n",
      "Iteration 144, loss = 0.10490149\n",
      "Iteration 145, loss = 0.10555076\n",
      "Iteration 146, loss = 0.10511088\n",
      "Iteration 147, loss = 0.10419819\n",
      "Iteration 148, loss = 0.10349506\n",
      "Iteration 149, loss = 0.10352811\n",
      "Iteration 150, loss = 0.10289614\n",
      "Iteration 151, loss = 0.10252647\n",
      "Iteration 152, loss = 0.10274101\n",
      "Iteration 153, loss = 0.10235154\n",
      "Iteration 154, loss = 0.10200781\n",
      "Iteration 155, loss = 0.10240743\n",
      "Iteration 156, loss = 0.10180843\n",
      "Iteration 157, loss = 0.10111677\n",
      "Iteration 158, loss = 0.10143943\n",
      "Iteration 159, loss = 0.10148992\n",
      "Iteration 160, loss = 0.10128038\n",
      "Iteration 161, loss = 0.10026268\n",
      "Iteration 162, loss = 0.10001673\n",
      "Iteration 163, loss = 0.10032076\n",
      "Iteration 164, loss = 0.10037189\n",
      "Iteration 165, loss = 0.09937373\n",
      "Iteration 166, loss = 0.09955293\n",
      "Iteration 167, loss = 0.09875033\n",
      "Iteration 168, loss = 0.09980592\n",
      "Iteration 169, loss = 0.09857365\n",
      "Iteration 170, loss = 0.09879021\n",
      "Iteration 171, loss = 0.09810617\n",
      "Iteration 172, loss = 0.09843945\n",
      "Iteration 173, loss = 0.09773047\n",
      "Iteration 174, loss = 0.09783473\n",
      "Iteration 175, loss = 0.09746366\n",
      "Iteration 176, loss = 0.09731423\n",
      "Iteration 177, loss = 0.09683189\n",
      "Iteration 178, loss = 0.09728427\n",
      "Iteration 179, loss = 0.09701643\n",
      "Iteration 180, loss = 0.09677641\n",
      "Iteration 181, loss = 0.09677299\n",
      "Iteration 182, loss = 0.09625699\n",
      "Iteration 183, loss = 0.09606140\n",
      "Iteration 184, loss = 0.09610407\n",
      "Iteration 185, loss = 0.09538587\n",
      "Iteration 186, loss = 0.09571092\n",
      "Iteration 187, loss = 0.09583584\n",
      "Iteration 188, loss = 0.09515219\n",
      "Iteration 189, loss = 0.09555139\n",
      "Iteration 190, loss = 0.09531570\n",
      "Iteration 191, loss = 0.09510347\n",
      "Iteration 192, loss = 0.09499336\n",
      "Iteration 193, loss = 0.09450396\n",
      "Iteration 194, loss = 0.09420029\n",
      "Iteration 195, loss = 0.09495283\n",
      "Iteration 196, loss = 0.09462755\n",
      "Iteration 197, loss = 0.09418515\n",
      "Iteration 198, loss = 0.09400118\n",
      "Iteration 199, loss = 0.09344576\n",
      "Iteration 200, loss = 0.09337840\n",
      "Model accuracy: 0.552\n"
     ]
    },
    {
     "name": "stderr",
     "output_type": "stream",
     "text": [
      "/home/saeed/Desktop/py_env/GA-NLP_rnn/.venv/lib/python3.12/site-packages/sklearn/neural_network/_multilayer_perceptron.py:691: ConvergenceWarning: Stochastic Optimizer: Maximum iterations (200) reached and the optimization hasn't converged yet.\n",
      "  warnings.warn(\n"
     ]
    }
   ],
   "source": [
    "from sklearn.model_selection import train_test_split\n",
    "from sklearn.feature_extraction.text import TfidfVectorizer\n",
    "from sklearn.naive_bayes import MultinomialNB\n",
    "from sklearn.metrics import accuracy_score\n",
    "from sklearn.pipeline import Pipeline\n",
    "import pandas as pd\n",
    "import numpy as np\n",
    "from sklearn.neural_network import MLPClassifier\n",
    "from joblib import dump\n",
    "\n",
    "print(df.head())\n",
    "\n",
    "# Combine 'title' and 'text' columns\n",
    "df['title_text'] = df['title']\n",
    "df = df.head(50000)\n",
    "# Split the data into training and test sets\n",
    "X_train, X_test, y_train, y_test = train_test_split(df['title_text'], df['rating'], test_size=0.2, random_state=42)\n",
    "print(\"starting training\")\n",
    "# Create a pipeline that first transforms the 'title_text' into feature vectors then trains the classifier\n",
    "text_clf = Pipeline([\n",
    "    ('tfidf', TfidfVectorizer()),\n",
    "    ('clf', MLPClassifier(verbose=True)),  # Set warm_start to True\n",
    "])\n",
    "# for i in range(100):  # Replace 100 with the number of iterations you want\n",
    "text_clf.fit(X_train, y_train)\n",
    "# dump(text_clf, f'model_checkpoint_{i}.joblib')\n",
    "# save the model\n",
    "try:\n",
    "    dump(text_clf, 'model.joblib')\n",
    "except Exception as e:\n",
    "    print(f\"An error occurred in saving the model: {e}\")\n",
    "\n",
    "# Predict the test set results\n",
    "y_pred = text_clf.predict(X_test)\n",
    "\n",
    "# Calculate accuracy\n",
    "accuracy = accuracy_score(y_test, y_pred)\n",
    "\n",
    "print(f\"Model accuracy: {accuracy}\")"
   ]
  },
  {
   "cell_type": "markdown",
   "metadata": {
    "collapsed": false
   },
   "source": [
    "# scaling the rating"
   ]
  },
  {
   "cell_type": "code",
   "execution_count": 111,
   "metadata": {
    "ExecuteTime": {
     "end_time": "2024-05-04T17:50:07.889242Z",
     "start_time": "2024-05-04T16:17:26.798078Z"
    },
    "collapsed": false
   },
   "outputs": [
    {
     "name": "stdout",
     "output_type": "stream",
     "text": [
      "   rating                                      title  \\\n",
      "0     5.0  Such a lovely scent but not overpowering.   \n",
      "1     4.0     Works great but smells a little weird.   \n",
      "2     5.0                                       Yes!   \n",
      "3     1.0                          Synthetic feeling   \n",
      "4     5.0                                         A+   \n",
      "\n",
      "                                                text  \\\n",
      "0  This spray is really nice. It smells really go...   \n",
      "1  This product does what I need it to do, I just...   \n",
      "2                          Smells good, feels great!   \n",
      "3                                     Felt synthetic   \n",
      "4                                            Love it   \n",
      "\n",
      "                                          title_text  rating_scaled  \\\n",
      "0  Such a lovely scent but not overpowering. This...           10.0   \n",
      "1  Works great but smells a little weird. This pr...            8.0   \n",
      "2                     Yes! Smells good, feels great!           10.0   \n",
      "3                   Synthetic feeling Felt synthetic            2.0   \n",
      "4                                         A+ Love it           10.0   \n",
      "\n",
      "   second_digit  rating_final  \n",
      "0             4         104.0  \n",
      "1             4          84.0  \n",
      "2             2         102.0  \n",
      "3             1          21.0  \n",
      "4             1         101.0  \n",
      "Iteration 1, loss = 3.47661449\n",
      "Iteration 2, loss = 3.09765832\n",
      "Iteration 3, loss = 2.89800977\n",
      "Iteration 4, loss = 2.72748557\n",
      "Iteration 5, loss = 2.54413435\n",
      "Iteration 6, loss = 2.34350611\n",
      "Iteration 7, loss = 2.13623477\n",
      "Iteration 8, loss = 1.93686246\n",
      "Iteration 9, loss = 1.75643114\n",
      "Iteration 10, loss = 1.59828022\n",
      "Iteration 11, loss = 1.46428715\n",
      "Iteration 12, loss = 1.35118411\n",
      "Iteration 13, loss = 1.25646021\n",
      "Iteration 14, loss = 1.17506125\n",
      "Iteration 15, loss = 1.10673747\n",
      "Iteration 16, loss = 1.04703287\n",
      "Iteration 17, loss = 0.99490969\n",
      "Iteration 18, loss = 0.94914495\n",
      "Iteration 19, loss = 0.90816547\n",
      "Iteration 20, loss = 0.87179620\n",
      "Iteration 21, loss = 0.83926756\n",
      "Iteration 22, loss = 0.80973313\n",
      "Iteration 23, loss = 0.78299859\n",
      "Iteration 24, loss = 0.75904919\n",
      "Iteration 25, loss = 0.73688623\n",
      "Iteration 26, loss = 0.71616205\n",
      "Iteration 27, loss = 0.69802552\n",
      "Iteration 28, loss = 0.67993633\n",
      "Iteration 29, loss = 0.66350136\n",
      "Iteration 30, loss = 0.64932658\n",
      "Iteration 31, loss = 0.63531565\n",
      "Iteration 32, loss = 0.62201447\n",
      "Iteration 33, loss = 0.61043837\n",
      "Iteration 34, loss = 0.59913620\n",
      "Iteration 35, loss = 0.58818970\n",
      "Iteration 36, loss = 0.57817674\n",
      "Iteration 37, loss = 0.56872438\n",
      "Iteration 38, loss = 0.55980894\n",
      "Iteration 39, loss = 0.55151569\n",
      "Iteration 40, loss = 0.54351061\n",
      "Iteration 41, loss = 0.53568164\n",
      "Iteration 42, loss = 0.52886455\n",
      "Iteration 43, loss = 0.52190443\n",
      "Iteration 44, loss = 0.51524239\n",
      "Iteration 45, loss = 0.50895491\n",
      "Iteration 46, loss = 0.50281228\n",
      "Iteration 47, loss = 0.49774946\n",
      "Iteration 48, loss = 0.49169393\n",
      "Iteration 49, loss = 0.48683700\n",
      "Iteration 50, loss = 0.48180006\n",
      "Iteration 51, loss = 0.47702322\n",
      "Iteration 52, loss = 0.47254086\n",
      "Iteration 53, loss = 0.46837355\n",
      "Iteration 54, loss = 0.46369482\n",
      "Iteration 55, loss = 0.45967804\n",
      "Iteration 56, loss = 0.45576384\n",
      "Iteration 57, loss = 0.45188173\n",
      "Iteration 58, loss = 0.44857993\n",
      "Iteration 59, loss = 0.44473271\n",
      "Iteration 60, loss = 0.44108662\n",
      "Iteration 61, loss = 0.43784060\n",
      "Iteration 62, loss = 0.43430979\n",
      "Iteration 63, loss = 0.43160045\n",
      "Iteration 64, loss = 0.42874531\n",
      "Iteration 65, loss = 0.42514360\n",
      "Iteration 66, loss = 0.42267125\n",
      "Iteration 67, loss = 0.41911214\n",
      "Iteration 68, loss = 0.41711105\n",
      "Iteration 69, loss = 0.41425235\n",
      "Iteration 70, loss = 0.41204913\n",
      "Iteration 71, loss = 0.40880887\n",
      "Iteration 72, loss = 0.40621526\n",
      "Iteration 73, loss = 0.40366052\n",
      "Iteration 74, loss = 0.40158158\n",
      "Iteration 75, loss = 0.39876485\n",
      "Iteration 76, loss = 0.39631783\n",
      "Iteration 77, loss = 0.39473367\n",
      "Iteration 78, loss = 0.39205026\n",
      "Iteration 79, loss = 0.39055718\n",
      "Iteration 80, loss = 0.38821378\n",
      "Iteration 81, loss = 0.38591381\n",
      "Iteration 82, loss = 0.38388576\n",
      "Iteration 83, loss = 0.38196990\n",
      "Iteration 84, loss = 0.38039725\n",
      "Iteration 85, loss = 0.37788542\n",
      "Iteration 86, loss = 0.37564200\n",
      "Iteration 87, loss = 0.37332500\n",
      "Iteration 88, loss = 0.37220744\n",
      "Iteration 89, loss = 0.37047330\n",
      "Iteration 90, loss = 0.36860939\n",
      "Iteration 91, loss = 0.36655432\n",
      "Iteration 92, loss = 0.36513492\n",
      "Iteration 93, loss = 0.36334605\n",
      "Iteration 94, loss = 0.36123652\n",
      "Iteration 95, loss = 0.36005955\n",
      "Iteration 96, loss = 0.35860928\n",
      "Iteration 97, loss = 0.35693842\n",
      "Iteration 98, loss = 0.35498024\n",
      "Iteration 99, loss = 0.35439239\n",
      "Iteration 100, loss = 0.35228822\n",
      "Iteration 101, loss = 0.35028060\n",
      "Iteration 102, loss = 0.34941524\n",
      "Iteration 103, loss = 0.34733878\n",
      "Iteration 104, loss = 0.34612870\n",
      "Iteration 105, loss = 0.34474517\n",
      "Iteration 106, loss = 0.34389848\n",
      "Iteration 107, loss = 0.34169492\n",
      "Iteration 108, loss = 0.34014306\n",
      "Iteration 109, loss = 0.33866403\n",
      "Iteration 110, loss = 0.33709210\n",
      "Iteration 111, loss = 0.33593533\n",
      "Iteration 112, loss = 0.33476753\n",
      "Iteration 113, loss = 0.33309600\n",
      "Iteration 114, loss = 0.33189484\n",
      "Iteration 115, loss = 0.33074186\n",
      "Iteration 116, loss = 0.32925299\n",
      "Iteration 117, loss = 0.32881056\n",
      "Iteration 118, loss = 0.32712386\n",
      "Iteration 119, loss = 0.32600505\n",
      "Iteration 120, loss = 0.32375087\n",
      "Iteration 121, loss = 0.32261164\n",
      "Iteration 122, loss = 0.32208631\n",
      "Iteration 123, loss = 0.32043510\n",
      "Iteration 124, loss = 0.31900073\n",
      "Iteration 125, loss = 0.31788922\n",
      "Iteration 126, loss = 0.31710108\n",
      "Iteration 127, loss = 0.31615481\n",
      "Iteration 128, loss = 0.31415514\n",
      "Iteration 129, loss = 0.31387774\n",
      "Iteration 130, loss = 0.31194961\n",
      "Iteration 131, loss = 0.31069213\n",
      "Iteration 132, loss = 0.30931437\n",
      "Iteration 133, loss = 0.30951375\n",
      "Iteration 134, loss = 0.30748898\n",
      "Iteration 135, loss = 0.30638130\n",
      "Iteration 136, loss = 0.30491797\n",
      "Iteration 137, loss = 0.30435767\n",
      "Iteration 138, loss = 0.30288680\n",
      "Iteration 139, loss = 0.30147222\n",
      "Iteration 140, loss = 0.30109651\n",
      "Iteration 141, loss = 0.29957534\n",
      "Iteration 142, loss = 0.29860216\n",
      "Iteration 143, loss = 0.29744476\n",
      "Iteration 144, loss = 0.29624452\n",
      "Iteration 145, loss = 0.29509106\n",
      "Iteration 146, loss = 0.29408661\n",
      "Iteration 147, loss = 0.29319007\n",
      "Iteration 148, loss = 0.29263420\n",
      "Iteration 149, loss = 0.29166119\n",
      "Iteration 150, loss = 0.29065221\n",
      "Iteration 151, loss = 0.28908492\n",
      "Iteration 152, loss = 0.28825187\n",
      "Iteration 153, loss = 0.28716539\n",
      "Iteration 154, loss = 0.28567307\n",
      "Iteration 155, loss = 0.28503852\n",
      "Iteration 156, loss = 0.28338583\n",
      "Iteration 157, loss = 0.28353472\n",
      "Iteration 158, loss = 0.28272821\n",
      "Iteration 159, loss = 0.28213631\n",
      "Iteration 160, loss = 0.28055881\n",
      "Iteration 161, loss = 0.27951556\n",
      "Iteration 162, loss = 0.27849673\n",
      "Iteration 163, loss = 0.27802894\n",
      "Iteration 164, loss = 0.27627742\n",
      "Iteration 165, loss = 0.27537748\n",
      "Iteration 166, loss = 0.27487182\n",
      "Iteration 167, loss = 0.27372637\n",
      "Iteration 168, loss = 0.27324454\n",
      "Iteration 169, loss = 0.27264878\n",
      "Iteration 170, loss = 0.27111961\n",
      "Iteration 171, loss = 0.27070167\n",
      "Iteration 172, loss = 0.26932754\n",
      "Iteration 173, loss = 0.26881615\n",
      "Iteration 174, loss = 0.26743940\n",
      "Iteration 175, loss = 0.26683595\n",
      "Iteration 176, loss = 0.26650073\n",
      "Iteration 177, loss = 0.26552184\n",
      "Iteration 178, loss = 0.26479747\n",
      "Iteration 179, loss = 0.26345840\n",
      "Iteration 180, loss = 0.26258760\n",
      "Iteration 181, loss = 0.26198853\n",
      "Iteration 182, loss = 0.26097028\n",
      "Iteration 183, loss = 0.26107852\n",
      "Iteration 184, loss = 0.25984853\n",
      "Iteration 185, loss = 0.25904413\n",
      "Iteration 186, loss = 0.25742515\n",
      "Iteration 187, loss = 0.25790391\n",
      "Iteration 188, loss = 0.25635444\n",
      "Iteration 189, loss = 0.25578841\n",
      "Iteration 190, loss = 0.25521241\n",
      "Iteration 191, loss = 0.25399455\n",
      "Iteration 192, loss = 0.25343350\n",
      "Iteration 193, loss = 0.25279764\n",
      "Iteration 194, loss = 0.25252212\n",
      "Iteration 195, loss = 0.25140176\n",
      "Iteration 196, loss = 0.25064170\n",
      "Iteration 197, loss = 0.25024176\n",
      "Iteration 198, loss = 0.24932278\n",
      "Iteration 199, loss = 0.24843894\n",
      "Iteration 200, loss = 0.24694947\n"
     ]
    },
    {
     "name": "stderr",
     "output_type": "stream",
     "text": [
      "/home/saeed/Desktop/py_env/GA-NLP_rnn/.venv/lib/python3.12/site-packages/sklearn/neural_network/_multilayer_perceptron.py:691: ConvergenceWarning: Stochastic Optimizer: Maximum iterations (200) reached and the optimization hasn't converged yet.\n",
      "  warnings.warn(\n"
     ]
    },
    {
     "name": "stdout",
     "output_type": "stream",
     "text": [
      "Model accuracy: 0.0664\n"
     ]
    }
   ],
   "source": [
    "from sklearn.model_selection import train_test_split\n",
    "from sklearn.feature_extraction.text import TfidfVectorizer\n",
    "from sklearn.naive_bayes import MultinomialNB\n",
    "from sklearn.metrics import accuracy_score\n",
    "from sklearn.pipeline import Pipeline\n",
    "import pandas as pd\n",
    "import numpy as np\n",
    "from sklearn.neural_network import MLPClassifier\n",
    "from joblib import dump\n",
    "\n",
    "# Combine 'title' and 'text' columns\n",
    "df['title_text'] = df['title'] + \" \" + df['text']\n",
    "df = df.head(200000)\n",
    "print(df.head())\n",
    "# Split the data into training and test sets\n",
    "import random\n",
    "\n",
    "# Scale ratings from 1-5 to 1-10\n",
    "df['rating_scaled'] = df['rating'] * 2\n",
    "\n",
    "# Generate a random second digit for each rating\n",
    "df['second_digit'] = [random.randint(0, 9) for _ in range(len(df))]\n",
    "\n",
    "# Combine the first and second digits to get the new rating\n",
    "df['rating_final'] = df['rating_scaled'] * 10 + df['second_digit']\n",
    "\n",
    "# Now use 'rating_final' for training\n",
    "X_train, X_test, y_train, y_test = train_test_split(df['title_text'], df[' '], test_size=0.2, random_state=42)\n",
    "# Create a pipeline that first transforms the 'title_text' into feature vectors then trains the classifier\n",
    "text_clf = Pipeline([\n",
    "    ('tfidf', TfidfVectorizer()),\n",
    "    ('clf', MLPClassifier(verbose=True)),\n",
    "])\n",
    "\n",
    "# Train the classifier\n",
    "text_clf.fit(X_train, y_train)\n",
    "# save the model\n",
    "try:\n",
    "    dump(text_clf, 'model2_scaled.joblib')\n",
    "except Exception as e:\n",
    "    print(f\"An error occurred in saving the model: {e}\")\n",
    "# Predict the test set results\n",
    "y_pred = text_clf.predict(X_test)\n",
    "\n",
    "# Calculate accuracy\n",
    "accuracy = accuracy_score(y_test, y_pred)\n",
    "\n",
    "print(f\"Model accuracy: {accuracy}\")"
   ]
  },
  {
   "cell_type": "code",
   "execution_count": 8,
   "metadata": {},
   "outputs": [
    {
     "name": "stdout",
     "output_type": "stream",
     "text": [
      "Requirement already satisfied: joblib in ./.venv/lib/python3.11/site-packages (1.4.2)\n"
     ]
    }
   ],
   "source": [
    "!pip install joblib"
   ]
  },
  {
   "cell_type": "code",
   "execution_count": 15,
   "metadata": {},
   "outputs": [],
   "source": [
    "import joblib\n",
    "\n",
    "text_clf = joblib.load('best_model.joblib')"
   ]
  },
  {
   "cell_type": "code",
   "execution_count": 16,
   "metadata": {
    "ExecuteTime": {
     "end_time": "2024-05-04T17:58:06.119706Z",
     "start_time": "2024-05-04T17:58:06.113313Z"
    },
    "collapsed": false
   },
   "outputs": [
    {
     "data": {
      "text/plain": [
       "array([5.])"
      ]
     },
     "execution_count": 16,
     "metadata": {},
     "output_type": "execute_result"
    }
   ],
   "source": [
    "\n",
    "text_clf.predict([\"makes me so good\"])"
   ]
  },
  {
   "cell_type": "code",
   "execution_count": 67,
   "metadata": {
    "ExecuteTime": {
     "end_time": "2024-05-04T13:55:56.372855Z",
     "start_time": "2024-05-04T13:55:56.366403Z"
    },
    "collapsed": false
   },
   "outputs": [],
   "source": [
    "import json\n",
    "def save_dictionary_from_data_frame_to_json(df,column_name, filename):\n",
    "    \"\"\"\n",
    "    this function takes a dataframe , and in it's column_name there should be a text and it will iterare \n",
    "    :param df: \n",
    "    :param filename: \n",
    "    :return: \n",
    "    \"\"\"\n",
    "    data_dict = dict()\n",
    "    c = 0\n",
    "    for sentence in df[column_name]:\n",
    "        for word in sentence.split(\" \"):\n",
    "            if word not in data_dict.keys():\n",
    "                c+=1\n",
    "            data_dict[word] = c\n",
    "    with open(filename, 'w') as f:\n",
    "        json.dump(data_dict, f)"
   ]
  },
  {
   "cell_type": "code",
   "execution_count": 78,
   "metadata": {
    "ExecuteTime": {
     "end_time": "2024-05-04T14:50:52.657956Z",
     "start_time": "2024-05-04T14:50:52.652763Z"
    },
    "collapsed": false
   },
   "outputs": [],
   "source": [
    "import re\n",
    "\n",
    "def save_dictionary_from_data_frame_to_txt(df, column_name, filename):\n",
    "    \"\"\"\n",
    "    this function takes a dataframe, and in its column_name there should be text, and it will iterate\n",
    "    :param df: DataFrame containing text data\n",
    "    :param column_name: Name of the column in the DataFrame containing text\n",
    "    :param filename: Name of the file to save the dictionary\n",
    "    \"\"\"\n",
    "    data_dict = set()\n",
    "    for sentence in df[column_name]:\n",
    "        words = re.findall(r'\\b\\w+\\b', sentence)  # Using regex to extract words\n",
    "        data_dict.update(words)\n",
    "    with open(filename, 'w') as f:\n",
    "        for word in data_dict:\n",
    "            f.write(f\"{word}\\n\")\n"
   ]
  },
  {
   "cell_type": "code",
   "execution_count": 99,
   "metadata": {
    "ExecuteTime": {
     "end_time": "2024-05-04T15:50:29.735617Z",
     "start_time": "2024-05-04T15:50:29.729437Z"
    },
    "collapsed": false
   },
   "outputs": [],
   "source": [
    "import re\n",
    "def save_dictionary_from_data_frame_to_txt_most_n_times(df, column_name, filename, n):\n",
    "    words_dict = dict()\n",
    "    words_arr = []\n",
    "    for sentence in df[column_name]:\n",
    "        words = re.findall(r'\\b\\w+\\b', sentence)  # Using regex to extract words\n",
    "        words_arr.append(words)\n",
    "    for sentence_p in words_arr:\n",
    "        for w in sentence_p:\n",
    "            if w in words_dict.keys():            \n",
    "                words_dict[w] = words_dict[w] + 1 \n",
    "            else:\n",
    "                words_dict[w] = 1\n",
    "    final_arr = []\n",
    "    for key in words_dict.keys():\n",
    "        if words_dict[key] >= n:\n",
    "            final_arr.append(key)\n",
    "    with open(filename, 'w') as f:\n",
    "        for w in final_arr:\n",
    "            f.write(f\"{w}\\n\")"
   ]
  },
  {
   "cell_type": "code",
   "execution_count": 57,
   "metadata": {
    "ExecuteTime": {
     "end_time": "2024-05-04T13:50:11.699956Z",
     "start_time": "2024-05-04T13:50:11.687333Z"
    },
    "collapsed": false
   },
   "outputs": [
    {
     "data": {
      "text/plain": [
       "0        Such a lovely scent but not overpowering. This...\n",
       "1        Works great but smells a little weird. This pr...\n",
       "2                           Yes! Smells good, feels great!\n",
       "3                         Synthetic feeling Felt synthetic\n",
       "4                                               A+ Love it\n",
       "                               ...                        \n",
       "49995    These were too heavy for me. I found these a l...\n",
       "49996    Fun to use Love playing around with different ...\n",
       "49997    More cosmetics, less cake flavoring. Not what ...\n",
       "49998    Beautiful, creamy, silky, stain for lips and c...\n",
       "49999    Maybe better for kids’ hair. The scrunchies ar...\n",
       "Name: title_text, Length: 50000, dtype: object"
      ]
     },
     "execution_count": 57,
     "metadata": {},
     "output_type": "execute_result"
    }
   ],
   "source": [
    "df[\"title_text\"]"
   ]
  },
  {
   "cell_type": "markdown",
   "metadata": {
    "collapsed": false
   },
   "source": []
  },
  {
   "cell_type": "code",
   "execution_count": 68,
   "metadata": {
    "ExecuteTime": {
     "end_time": "2024-05-04T13:56:03.709007Z",
     "start_time": "2024-05-04T13:56:02.496190Z"
    },
    "collapsed": false
   },
   "outputs": [],
   "source": [
    "save_dictionary_from_data_frame_to_json(df, \"title_text\", \"dictionary.json\")"
   ]
  },
  {
   "cell_type": "code",
   "execution_count": 79,
   "metadata": {
    "ExecuteTime": {
     "end_time": "2024-05-04T14:50:59.462682Z",
     "start_time": "2024-05-04T14:50:56.573717Z"
    },
    "collapsed": false
   },
   "outputs": [],
   "source": [
    "save_dictionary_from_data_frame_to_txt(df, \"title_text\", \"dictionary.txt\")"
   ]
  },
  {
   "cell_type": "code",
   "execution_count": 103,
   "metadata": {
    "ExecuteTime": {
     "end_time": "2024-05-04T15:53:00.375184Z",
     "start_time": "2024-05-04T15:52:56.922285Z"
    },
    "collapsed": false
   },
   "outputs": [],
   "source": [
    "save_dictionary_from_data_frame_to_txt_most_n_times(df, \"title_text\", \"new_dictionary.txt\", 500)"
   ]
  },
  {
   "cell_type": "code",
   "execution_count": 81,
   "metadata": {
    "ExecuteTime": {
     "end_time": "2024-05-04T14:55:49.804542Z",
     "start_time": "2024-05-04T14:55:49.781320Z"
    },
    "collapsed": false
   },
   "outputs": [
    {
     "name": "stdout",
     "output_type": "stream",
     "text": [
      "['experience', 'Granbaby', 'employees', 'Stroping', 'Yaaaasssss', 'gunpowder', 'crossdressing', 'después', 'Mists', '108w', 'Alsome', 'blokes', 'defining', 'frizzing', 'patching', 'gifts', 'CANNOT', 'Carols', 'Flashlights', 'microfibers', 'BANDS', 'explore', 'festival', 'sassoon', 'Estheticians', 'scraps', 'Some', 'Sufficient', 'professionalism', 'sparingly', 'confidently', 'Wearing', 'eliminate', 'Ema', 'OFFICE', 'seconds', 'uneasy', 'WENT', '520', 'Theyre', 'oloring', 'BOX', 'bug', 'B01FE1VHPQ', '54d75c107f2c222477f776b2c0f01245', 'many', 'copay', 'fog', 'sis', 'quot']\n"
     ]
    }
   ],
   "source": [
    "import random\n",
    "\n",
    "def get_random_words(filename, n):\n",
    "    with open(filename, 'r') as f:\n",
    "        words = f.read().splitlines()\n",
    "    return random.sample(words, n)\n",
    "\n",
    "# Usage\n",
    "reduced_dict = get_random_words('dictionary.txt', 10000)\n",
    "print(reduced_dict[:50])"
   ]
  },
  {
   "cell_type": "code",
   "execution_count": 104,
   "metadata": {
    "ExecuteTime": {
     "end_time": "2024-05-04T15:55:49.754182Z",
     "start_time": "2024-05-04T15:55:49.750328Z"
    },
    "collapsed": false
   },
   "outputs": [],
   "source": [
    "def get_words(filename):\n",
    "    with open(filename, 'r') as f:\n",
    "        words = f.read().splitlines()\n",
    "    return words"
   ]
  },
  {
   "cell_type": "code",
   "execution_count": 105,
   "metadata": {
    "ExecuteTime": {
     "end_time": "2024-05-04T15:55:51.794951Z",
     "start_time": "2024-05-04T15:55:51.787931Z"
    },
    "collapsed": false
   },
   "outputs": [],
   "source": [
    "final_dictionary = get_words(\"new_dictionary.txt\")"
   ]
  },
  {
   "cell_type": "code",
   "execution_count": 107,
   "metadata": {
    "ExecuteTime": {
     "end_time": "2024-05-04T16:01:52.058235Z",
     "start_time": "2024-05-04T16:01:41.415116Z"
    },
    "collapsed": false
   },
   "outputs": [
    {
     "name": "stderr",
     "output_type": "stream",
     "text": [
      "/home/saeed/Desktop/py_env/GA-NLP_rnn/.venv/lib/python3.12/site-packages/deap/creator.py:185: RuntimeWarning: A class named 'FitnessMax' has already been created and it will be overwritten. Consider deleting previous creation of that class or rename it.\n",
      "  warnings.warn(\"A class named '{0}' has already been created and it \"\n",
      "/home/saeed/Desktop/py_env/GA-NLP_rnn/.venv/lib/python3.12/site-packages/deap/creator.py:185: RuntimeWarning: A class named 'Individual' has already been created and it will be overwritten. Consider deleting previous creation of that class or rename it.\n",
      "  warnings.warn(\"A class named '{0}' has already been created and it \"\n"
     ]
    },
    {
     "name": "stdout",
     "output_type": "stream",
     "text": [
      "gen\tnevals\tavg    \tmin\tmax\n",
      "0  \t300   \t4.23333\t1  \t5  \n",
      "1  \t184   \t4.81   \t1  \t5  \n",
      "2  \t187   \t4.88   \t1  \t5  \n",
      "3  \t177   \t4.90333\t1  \t5  \n",
      "4  \t166   \t4.93   \t1  \t5  \n",
      "5  \t176   \t4.92333\t1  \t5  \n",
      "6  \t178   \t4.91667\t1  \t5  \n",
      "7  \t184   \t4.91333\t1  \t5  \n",
      "8  \t174   \t4.91333\t1  \t5  \n",
      "9  \t153   \t4.96667\t1  \t5  \n",
      "10 \t184   \t4.93   \t1  \t5  \n",
      "11 \t185   \t4.93333\t1  \t5  \n",
      "12 \t163   \t4.92   \t1  \t5  \n",
      "13 \t167   \t4.96667\t3  \t5  \n",
      "14 \t176   \t4.92667\t1  \t5  \n",
      "15 \t178   \t4.91667\t1  \t5  \n",
      "16 \t161   \t4.93667\t1  \t5  \n",
      "17 \t172   \t4.96   \t1  \t5  \n",
      "18 \t162   \t4.93   \t1  \t5  \n",
      "19 \t180   \t4.96333\t1  \t5  \n",
      "20 \t170   \t4.97667\t2  \t5  \n",
      "21 \t185   \t4.95667\t1  \t5  \n",
      "22 \t185   \t4.99   \t3  \t5  \n",
      "23 \t187   \t4.95667\t1  \t5  \n",
      "24 \t162   \t4.97   \t1  \t5  \n",
      "25 \t170   \t4.97333\t1  \t5  \n",
      "26 \t192   \t4.92667\t1  \t5  \n",
      "27 \t172   \t4.93   \t1  \t5  \n",
      "28 \t152   \t4.94667\t1  \t5  \n",
      "29 \t192   \t4.98   \t2  \t5  \n",
      "30 \t166   \t4.99   \t2  \t5  \n",
      "31 \t169   \t4.96667\t1  \t5  \n",
      "32 \t173   \t4.97667\t1  \t5  \n",
      "33 \t167   \t4.98667\t2  \t5  \n",
      "34 \t181   \t4.95   \t1  \t5  \n",
      "35 \t169   \t4.97   \t1  \t5  \n",
      "36 \t164   \t4.98333\t1  \t5  \n",
      "37 \t194   \t4.98667\t1  \t5  \n",
      "38 \t155   \t4.98   \t1  \t5  \n",
      "39 \t179   \t4.95333\t1  \t5  \n",
      "40 \t177   \t4.98333\t1  \t5  \n",
      "Too wonderful how Love cap from light try purchase wear case One Really Very straight mascara black Four just face\n"
     ]
    },
    {
     "data": {
      "text/plain": [
       "array([5.])"
      ]
     },
     "execution_count": 107,
     "metadata": {},
     "output_type": "execute_result"
    }
   ],
   "source": [
    "import numpy\n",
    "import random\n",
    "from deap import base, creator, tools, algorithms\n",
    "\n",
    "# Create the fitness class, which will be the base of the individual\n",
    "creator.create(\"FitnessMax\", base.Fitness, weights=(1.0,))\n",
    "\n",
    "# Create the individual class based on list with fitness attribute\n",
    "creator.create(\"Individual\", list, fitness=creator.FitnessMax)\n",
    "# Define the fitness function\n",
    "def fitness(individual):\n",
    "    sentence = \" \".join(individual)\n",
    "    score = text_clf.predict([sentence])[0]\n",
    "    return score,\n",
    "\n",
    "# Define the mutation function\n",
    "def mutate(individual):\n",
    "    index = random.randrange(len(individual))\n",
    "    individual[index] = random.choice(reduced_dict)\n",
    "    return individual,\n",
    "\n",
    "# Create the toolbox\n",
    "toolbox = base.Toolbox()\n",
    "toolbox.register(\"individual\", tools.initRepeat, creator.Individual, lambda: random.choice(final_dictionary), n=20)\n",
    "toolbox.register(\"population\", tools.initRepeat, list, toolbox.individual)\n",
    "toolbox.register(\"evaluate\", fitness)\n",
    "toolbox.register(\"mate\", tools.cxTwoPoint)\n",
    "toolbox.register(\"mutate\", mutate)\n",
    "toolbox.register(\"select\", tools.selTournament, tournsize=3)\n",
    "\n",
    "# Initialize a population\n",
    "pop = toolbox.population(n=300)\n",
    "\n",
    "# Define the hall of fame\n",
    "hof = tools.HallOfFame(1)\n",
    "\n",
    "# Perform the genetic algorithm\n",
    "stats = tools.Statistics(lambda ind: ind.fitness.values)\n",
    "stats.register(\"avg\", numpy.mean)\n",
    "stats.register(\"min\", numpy.min)\n",
    "stats.register(\"max\", numpy.max)\n",
    "\n",
    "pop, log = algorithms.eaSimple(pop, toolbox, cxpb=0.5, mutpb=0.2, ngen=40, stats=stats, halloffame=hof, verbose=True)\n",
    "sentence = \" \".join(hof[0])\n",
    "# Print the best sentence found\n",
    "print(sentence)\n",
    "text_clf.predict([sentence])"
   ]
  },
  {
   "cell_type": "code",
   "execution_count": 86,
   "metadata": {
    "ExecuteTime": {
     "end_time": "2024-05-04T15:09:05.639521Z",
     "start_time": "2024-05-04T15:09:05.629823Z"
    },
    "collapsed": false
   },
   "outputs": [
    {
     "data": {
      "text/plain": [
       "array([5.])"
      ]
     },
     "execution_count": 86,
     "metadata": {},
     "output_type": "execute_result"
    }
   ],
   "source": [
    "text_clf.predict([sentence])\n"
   ]
  }
 ],
 "metadata": {
  "colab": {
   "provenance": []
  },
  "kernelspec": {
   "display_name": "Python 3 (ipykernel)",
   "language": "python",
   "name": "python3"
  },
  "language_info": {
   "codemirror_mode": {
    "name": "ipython",
    "version": 3
   },
   "file_extension": ".py",
   "mimetype": "text/x-python",
   "name": "python",
   "nbconvert_exporter": "python",
   "pygments_lexer": "ipython3",
   "version": "3.11.8"
  }
 },
 "nbformat": 4,
 "nbformat_minor": 0
}
